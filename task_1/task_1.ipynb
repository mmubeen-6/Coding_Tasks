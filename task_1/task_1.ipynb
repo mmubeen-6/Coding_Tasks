{
 "cells": [
  {
   "cell_type": "code",
   "execution_count": 1,
   "metadata": {},
   "outputs": [],
   "source": [
    "import numpy as np"
   ]
  },
  {
   "cell_type": "markdown",
   "metadata": {},
   "source": [
    "Given point in code"
   ]
  },
  {
   "cell_type": "code",
   "execution_count": 2,
   "metadata": {},
   "outputs": [],
   "source": [
    "original_point = np.array([1, 2, 3])"
   ]
  },
  {
   "cell_type": "markdown",
   "metadata": {},
   "source": [
    "According to the input information"
   ]
  },
  {
   "cell_type": "code",
   "execution_count": 3,
   "metadata": {},
   "outputs": [],
   "source": [
    "# rotation degrees\n",
    "rot_x = 0\n",
    "rot_y = 45\n",
    "rot_z = 0\n",
    "\n",
    "# translation\n",
    "trans_x = 3\n",
    "trans_y = 2\n",
    "trans_z = 1"
   ]
  },
  {
   "cell_type": "markdown",
   "metadata": {},
   "source": [
    "### Rotation point in 3D\n",
    "\n",
    "To rotate a 3D point, the following rotation matrixes is used:\n",
    "\n",
    "$$\n",
    "\\mathbf{R_x} = \\begin{bmatrix}\n",
    "1 & 0 & 0 & 0 \\\\\n",
    "0 & cos(\\theta) & sin(\\theta) & 0 \\\\\n",
    "0 & -sin(\\theta) & cos(\\theta) & 0 \\\\\n",
    "0 & 0 & 0 & 1 \n",
    "\\end{bmatrix}\n",
    "$$\n",
    "\n",
    "$$\n",
    "\\mathbf{R_y} = \\begin{bmatrix}\n",
    "cos(\\theta) & 0 & -sin(\\theta) & 0 \\\\\n",
    "0 & 1 & 0 & 0 \\\\\n",
    "sin(\\theta) & 0 & cos(\\theta) & 0 \\\\\n",
    "0 & 0 & 0 & 1 \n",
    "\\end{bmatrix}\n",
    "$$\n",
    "\n",
    "$$\n",
    "\\mathbf{R_z} = \\begin{bmatrix}\n",
    "cos(\\theta) & -sin(\\theta) & 0 & 0 \\\\\n",
    "0 & 1 & 0 & 0 \\\\\n",
    "sin(\\theta) & cos(\\theta) & 0 &  0 \\\\\n",
    "0 & 0 & 0 & 1 \n",
    "\\end{bmatrix}\n",
    "$$\n",
    "\n",
    "It is assumed that for each rotation, the corresponding $\\theta$ is in radians and the point homogenous as\n",
    "\n",
    "$$\n",
    "\\mathbf{x} = \\begin{bmatrix}\n",
    "y \\\\\n",
    "y \\\\\n",
    "z \\\\\n",
    "1 \n",
    "\\end{bmatrix}\n",
    "$$\n",
    "\n",
    "and the transformation is applied as: -\n",
    "\n",
    "$$\n",
    "y = \\mathbf{R_z}\\mathbf{R_y}\\mathbf{R_x}x\n",
    "$$"
   ]
  },
  {
   "cell_type": "code",
   "execution_count": 4,
   "metadata": {},
   "outputs": [],
   "source": [
    "# converting degrees to radians\n",
    "rot_x_rad = np.deg2rad(rot_x)\n",
    "rot_y_rad = np.deg2rad(rot_y)\n",
    "rot_z_rad = np.deg2rad(rot_z)"
   ]
  },
  {
   "cell_type": "code",
   "execution_count": 5,
   "metadata": {},
   "outputs": [
    {
     "name": "stdout",
     "output_type": "stream",
     "text": [
      "Rotation matrices:\n",
      "X axis:\n",
      "[[ 1.  0.  0.  0.]\n",
      " [ 0.  1. -0.  0.]\n",
      " [ 0.  0.  1.  0.]\n",
      " [ 0.  0.  0.  1.]]\n",
      "\n",
      "Y axis:\n",
      "[[ 0.70710678  0.         -0.70710678  0.        ]\n",
      " [ 0.          1.          0.          0.        ]\n",
      " [ 0.70710678  0.          0.70710678  0.        ]\n",
      " [ 0.          0.          0.          1.        ]]\n",
      "\n",
      "Z axis:\n",
      "[[ 1. -0.  0.  0.]\n",
      " [ 0.  1.  0.  0.]\n",
      " [ 0.  0.  1.  0.]\n",
      " [ 0.  0.  0.  1.]]\n"
     ]
    }
   ],
   "source": [
    "rot_x_matrix = np.array([\n",
    "    [1, 0, 0, 0],\n",
    "    [0, np.cos(rot_x_rad), -np.sin(rot_x_rad), 0],\n",
    "    [0, np.sin(rot_x_rad), np.cos(rot_x_rad), 0],\n",
    "    [0, 0, 0, 1]\n",
    "])\n",
    "rot_y_matrix = np.array([\n",
    "    [np.cos(rot_y_rad), 0, -np.sin(rot_y_rad), 0],\n",
    "    [0, 1, 0, 0],\n",
    "    [np.sin(rot_y_rad), 0, np.cos(rot_y_rad), 0],\n",
    "    [0, 0, 0, 1]\n",
    "])\n",
    "rot_z_matrix = np.array([\n",
    "    [np.cos(rot_z_rad), -np.sin(rot_z_rad), 0, 0],\n",
    "    [np.sin(rot_z_rad), np.cos(rot_z_rad), 0, 0],\n",
    "    [0, 0, 1, 0],\n",
    "    [0, 0, 0, 1]\n",
    "])\n",
    "print(\"Rotation matrices:\")\n",
    "print(\"X axis:\")\n",
    "print(rot_x_matrix)\n",
    "print(\"\\nY axis:\")\n",
    "print(rot_y_matrix)\n",
    "print(\"\\nZ axis:\")\n",
    "print(rot_z_matrix)"
   ]
  },
  {
   "cell_type": "markdown",
   "metadata": {},
   "source": [
    "### Translate point in 3D\n",
    "\n",
    "To translate a 3D point, the following translation matrix is used:\n",
    "\n",
    "$$\n",
    "\\mathbf{T} = \\begin{bmatrix}\n",
    "1 & 0 & 0 & t_x \\\\\n",
    "0 & 1 & 0 & t_y \\\\\n",
    "0 & 0 & 1 & t_z \\\\\n",
    "0 & 0 & 0 & 1 \n",
    "\\end{bmatrix}\n",
    "$$\n",
    "\n",
    "and the point is assumed to be homogenous as\n",
    "\n",
    "$$\n",
    "\\mathbf{x} = \\begin{bmatrix}\n",
    "y \\\\\n",
    "y \\\\\n",
    "z \\\\\n",
    "1 \n",
    "\\end{bmatrix}\n",
    "$$\n",
    "\n",
    "and the transformation is applied as: -\n",
    "\n",
    "$$\n",
    "y = \\mathbf{T}x\n",
    "$$"
   ]
  },
  {
   "cell_type": "code",
   "execution_count": 6,
   "metadata": {},
   "outputs": [
    {
     "name": "stdout",
     "output_type": "stream",
     "text": [
      "Translation Matrix: \n",
      " [[1 0 0 3]\n",
      " [0 1 0 2]\n",
      " [0 0 1 1]\n",
      " [0 0 0 1]]\n"
     ]
    }
   ],
   "source": [
    "translation_matrix = np.array([\n",
    "    [1, 0, 0, trans_x],\n",
    "    [0, 1, 0, trans_y],\n",
    "    [0, 0, 1, trans_z],\n",
    "    [0, 0, 0, 1]\n",
    "])\n",
    "print(\"Translation Matrix: \\n\", translation_matrix)"
   ]
  },
  {
   "cell_type": "markdown",
   "metadata": {},
   "source": [
    "### Applying the transformations to the point using the rotation and translation matrixes\n",
    "\n",
    "$$\n",
    "y = \\mathbf{T}\\mathbf{R_z}\\mathbf{R_y}\\mathbf{R_x}x\n",
    "$$"
   ]
  },
  {
   "cell_type": "code",
   "execution_count": 7,
   "metadata": {},
   "outputs": [
    {
     "name": "stdout",
     "output_type": "stream",
     "text": [
      "Transformation Matrix: \n",
      " [[ 0.70710678  0.         -0.70710678  3.        ]\n",
      " [ 0.          1.          0.          2.        ]\n",
      " [ 0.70710678  0.          0.70710678  1.        ]\n",
      " [ 0.          0.          0.          1.        ]]\n"
     ]
    }
   ],
   "source": [
    "transformation_matrix = translation_matrix @ rot_z_matrix @ rot_y_matrix @ rot_x_matrix\n",
    "print(\"Transformation Matrix: \\n\", transformation_matrix)"
   ]
  },
  {
   "cell_type": "code",
   "execution_count": 8,
   "metadata": {},
   "outputs": [],
   "source": [
    "transformed_point = np.dot(transformation_matrix, np.append(original_point, 1))\n",
    "transformed_point = transformed_point[:3]"
   ]
  },
  {
   "cell_type": "code",
   "execution_count": 9,
   "metadata": {},
   "outputs": [
    {
     "name": "stdout",
     "output_type": "stream",
     "text": [
      "Transformed point:  [1.58578644 4.         3.82842712]\n"
     ]
    }
   ],
   "source": [
    "print(\"Transformed point: \", transformed_point)"
   ]
  }
 ],
 "metadata": {
  "kernelspec": {
   "display_name": "Python 3 (ipykernel)",
   "language": "python",
   "name": "python3"
  },
  "language_info": {
   "codemirror_mode": {
    "name": "ipython",
    "version": 3
   },
   "file_extension": ".py",
   "mimetype": "text/x-python",
   "name": "python",
   "nbconvert_exporter": "python",
   "pygments_lexer": "ipython3",
   "version": "3.8.16"
  }
 },
 "nbformat": 4,
 "nbformat_minor": 4
}
