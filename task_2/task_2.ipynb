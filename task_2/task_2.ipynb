{
 "cells": [
  {
   "cell_type": "code",
   "execution_count": 2,
   "metadata": {},
   "outputs": [],
   "source": [
    "import io\n",
    "import os\n",
    "import random\n",
    "from pprint import pprint\n",
    "\n",
    "import cv2\n",
    "import matplotlib\n",
    "import matplotlib.pyplot as plt\n",
    "\n",
    "import numpy as np\n",
    "import torch\n",
    "import torch.nn as nn\n",
    "import utils\n",
    "import utils.transforms as et\n",
    "import wandb\n",
    "\n",
    "from datasets import Cityscapes, VOCSegmentation\n",
    "from metrics import StreamSegMetrics\n",
    "from networks import (\n",
    "    convert_to_separable_conv,\n",
    "    deeplabv3plus_resnet32,\n",
    "    deeplabv3plus_resnet50,\n",
    ")\n",
    "from PIL import Image\n",
    "from torch.utils import data\n",
    "from tqdm import tqdm"
   ]
  },
  {
   "cell_type": "markdown",
   "metadata": {},
   "source": [
    "- Report Path for Task 2 trained with Resnet50 backbone: https://api.wandb.ai/links/mmubeen/17kipdv1\n",
    "\n",
    "- Report Path for Task 2 trained with Resnet32 backbone: Still in Progress\n",
    "Reason: Model not converging for now, still working on it.\n",
    "\n",
    "Github Repo used for Task 2: https://github.com/VainF/DeepLabV3Plus-Pytorch/"
   ]
  },
  {
   "cell_type": "markdown",
   "metadata": {},
   "source": [
    "Project variables"
   ]
  },
  {
   "cell_type": "code",
   "execution_count": 1,
   "metadata": {},
   "outputs": [],
   "source": [
    "opts = {\n",
    "    \"dataset_path\": \"/hdd/repos/datasets/VOC\",  # path to dataset\n",
    "    \"dataset_name\": \"VOCSegmentation\",  # dataset name, e.g. VOCSegmentation, Cityscapes(Not tested) \n",
    "    \"output_path\": \"./output\",  # where to save the project/experiment result\n",
    "    \"project_name\": \"Coding_Task_2\",    # project name, e.g. Coding_Task_2\n",
    "    \"experiment_name\": \"deeplabv3plus_resnet50_run2\",    # experiment name, e.g. deeplabv3plus_resnet32\n",
    "    \"project_exist_ok\": False,  # if True, it will not raise error if the project name exist\n",
    "    \"num_classes\": 21,\t# if incorrect, it will be autocorrected\n",
    "    \"model_name\": \"deeplabv3plus_resnet50\", # deeplabv3plus_resnet50, deeplabv3plus_resnet32\n",
    "    \"epochs\": 50,   # number of epochs\n",
    "    \"batch_size\": 8,    # training batch size\n",
    "    \"val_batch_size\": 1,    # validation batch size\n",
    "    \"lr\": 0.01,     # learning rate\n",
    "    \"lr_policy\": \"poly\",    # learning rate policy, e.g. poly, step\n",
    "    \"step_size\": 10000,     # step size for stepLR\n",
    "    \"model_save_interval\": 5,   # save model every interval epoch\n",
    "    \"val_interval\": 1,  # validation interval epoch\n",
    "    \"save_val_results\": True,   # save validation result\n",
    "    \"gpu_id\": 0,    # gpu id for training\n",
    "    \"num_workers\": 2,   # number of workers for dataloader\n",
    "    \"random_seed\": 42,  # random seed for reproducibility\n",
    "    \"crop_size\": 513,   # crop size for training\n",
    "    \"crop_val\": False,  # whether to crop validation\n",
    "    \"enable_vis\": True,     # whether to enable visualization\n",
    "    \"vis_num_samples\": 10,  # number of visualization samples\n",
    "    \"separable_conv\": False,    # whether to use separable conv\n",
    "    \"weight_decay\": 1e-4,       # weight decay\n",
    "    \"loss_type\": \"cross_entropy\"    # loss type, e.g. cross_entropy, focal_loss\n",
    "}"
   ]
  },
  {
   "cell_type": "code",
   "execution_count": 4,
   "metadata": {},
   "outputs": [
    {
     "name": "stderr",
     "output_type": "stream",
     "text": [
      "Failed to detect the name of this notebook, you can set it manually with the WANDB_NOTEBOOK_NAME environment variable to enable code saving.\n"
     ]
    },
    {
     "name": "stdout",
     "output_type": "stream",
     "text": [
      "'Configs: '\n",
      "{'batch_size': 8,\n",
      " 'crop_size': 513,\n",
      " 'crop_val': False,\n",
      " 'dataset_name': 'VOCSegmentation',\n",
      " 'dataset_path': '/hdd/repos/datasets/VOC',\n",
      " 'enable_vis': True,\n",
      " 'epochs': 50,\n",
      " 'experiment_name': 'deeplabv3plus_resnet50_run2',\n",
      " 'gpu_id': 0,\n",
      " 'loss_type': 'cross_entropy',\n",
      " 'lr': 0.01,\n",
      " 'lr_policy': 'poly',\n",
      " 'model_name': 'deeplabv3plus_resnet50',\n",
      " 'model_save_interval': 5,\n",
      " 'num_classes': 21,\n",
      " 'num_workers': 2,\n",
      " 'output_path': './output',\n",
      " 'project_exist_ok': False,\n",
      " 'project_name': 'Coding_Task_2',\n",
      " 'random_seed': 42,\n",
      " 'save_val_results': True,\n",
      " 'separable_conv': False,\n",
      " 'step_size': 10000,\n",
      " 'val_batch_size': 1,\n",
      " 'val_interval': 1,\n",
      " 'vis_num_samples': 10,\n",
      " 'weight_decay': 0.0001}\n"
     ]
    },
    {
     "name": "stderr",
     "output_type": "stream",
     "text": [
      "\u001b[34m\u001b[1mwandb\u001b[0m: Currently logged in as: \u001b[33mmmubeen\u001b[0m. Use \u001b[1m`wandb login --relogin`\u001b[0m to force relogin\n"
     ]
    },
    {
     "data": {
      "text/html": [
       "wandb version 0.16.0 is available!  To upgrade, please run:\n",
       " $ pip install wandb --upgrade"
      ],
      "text/plain": [
       "<IPython.core.display.HTML object>"
      ]
     },
     "metadata": {},
     "output_type": "display_data"
    },
    {
     "data": {
      "text/html": [
       "Tracking run with wandb version 0.13.5"
      ],
      "text/plain": [
       "<IPython.core.display.HTML object>"
      ]
     },
     "metadata": {},
     "output_type": "display_data"
    },
    {
     "data": {
      "text/html": [
       "Run data is saved locally in <code>./output/Coding_Task_2/deeplabv3plus_resnet50_run2/wandb/run-20231126_051803-irmi4up4</code>"
      ],
      "text/plain": [
       "<IPython.core.display.HTML object>"
      ]
     },
     "metadata": {},
     "output_type": "display_data"
    },
    {
     "data": {
      "text/html": [
       "Syncing run <strong><a href=\"https://wandb.ai/mmubeen/Coding_Task_2/runs/irmi4up4\" target=\"_blank\">deeplabv3plus_resnet50_run2</a></strong> to <a href=\"https://wandb.ai/mmubeen/Coding_Task_2\" target=\"_blank\">Weights & Biases</a> (<a href=\"https://wandb.me/run\" target=\"_blank\">docs</a>)<br/>"
      ],
      "text/plain": [
       "<IPython.core.display.HTML object>"
      ]
     },
     "metadata": {},
     "output_type": "display_data"
    },
    {
     "name": "stdout",
     "output_type": "stream",
     "text": [
      "Device: cuda\n",
      "Dataset: VOCSegmentation, Train set: 1464, Val set: 1449\n"
     ]
    },
    {
     "name": "stderr",
     "output_type": "stream",
     "text": [
      "/home/darvis-ml1/anaconda3/envs/yolov8/lib/python3.8/site-packages/torchvision/models/_utils.py:208: UserWarning: The parameter 'pretrained' is deprecated since 0.13 and may be removed in the future, please use 'weights' instead.\n",
      "  warnings.warn(\n",
      "/home/darvis-ml1/anaconda3/envs/yolov8/lib/python3.8/site-packages/torchvision/models/_utils.py:223: UserWarning: Arguments other than a weight enum or `None` for 'weights' are deprecated since 0.13 and may be removed in the future. The current behavior is equivalent to passing `weights=ResNet50_Weights.IMAGENET1K_V1`. You can also use `weights=ResNet50_Weights.DEFAULT` to get the most up-to-date weights.\n",
      "  warnings.warn(msg)\n"
     ]
    },
    {
     "name": "stdout",
     "output_type": "stream",
     "text": [
      "Epoch 1, Itrs 20, Loss=1.3770\n",
      "Epoch 1, Itrs 40, Loss=0.8888\n",
      "Epoch 1, Itrs 60, Loss=0.6447\n",
      "Epoch 1, Itrs 80, Loss=0.7188\n",
      "Epoch 1, Itrs 100, Loss=0.4536\n",
      "Epoch 1, Itrs 120, Loss=0.5116\n",
      "Epoch 1, Itrs 140, Loss=0.4460\n",
      "Epoch 1, Itrs 160, Loss=0.4232\n",
      "Epoch 1, Itrs 180, Loss=0.4982\n",
      "Model saved at: ./output/Coding_Task_2/deeplabv3plus_resnet50_run2/checkpoints/latest.pt\n",
      "Validation...\n"
     ]
    },
    {
     "name": "stderr",
     "output_type": "stream",
     "text": [
      "1449it [00:27, 51.92it/s]\n"
     ]
    },
    {
     "name": "stdout",
     "output_type": "stream",
     "text": [
      "\n",
      "Overall Acc: 0.841547\n",
      "Mean Acc: 0.647325\n",
      "FreqW Acc: 0.746420\n",
      "Mean IoU: 0.461173\n",
      "\n",
      "Model saved at: ./output/Coding_Task_2/deeplabv3plus_resnet50_run2/checkpoints/best.pt\n"
     ]
    },
    {
     "name": "stderr",
     "output_type": "stream",
     "text": [
      "WARNING:root:Images sizes do not match. This will causes images to be display incorrectly in the UI.\n",
      "WARNING:root:Images sizes do not match. This will causes images to be display incorrectly in the UI.\n",
      "WARNING:root:Images sizes do not match. This will causes images to be display incorrectly in the UI.\n",
      "WARNING:root:Images sizes do not match. This will causes images to be display incorrectly in the UI.\n"
     ]
    },
    {
     "name": "stdout",
     "output_type": "stream",
     "text": [
      "Epoch 2, Itrs 200, Loss=0.4398\n",
      "Epoch 2, Itrs 220, Loss=0.3434\n",
      "Epoch 2, Itrs 240, Loss=0.3883\n",
      "Epoch 2, Itrs 260, Loss=0.3586\n",
      "Epoch 2, Itrs 280, Loss=0.4883\n",
      "Epoch 2, Itrs 300, Loss=0.3954\n",
      "Epoch 2, Itrs 320, Loss=0.3640\n",
      "Epoch 2, Itrs 340, Loss=0.3533\n",
      "Epoch 2, Itrs 360, Loss=0.3460\n",
      "Model saved at: ./output/Coding_Task_2/deeplabv3plus_resnet50_run2/checkpoints/latest.pt\n",
      "Validation...\n"
     ]
    },
    {
     "name": "stderr",
     "output_type": "stream",
     "text": [
      "1449it [00:22, 63.46it/s]\n"
     ]
    },
    {
     "name": "stdout",
     "output_type": "stream",
     "text": [
      "\n",
      "Overall Acc: 0.831366\n",
      "Mean Acc: 0.737818\n",
      "FreqW Acc: 0.737953\n",
      "Mean IoU: 0.474180\n",
      "\n",
      "Model saved at: ./output/Coding_Task_2/deeplabv3plus_resnet50_run2/checkpoints/best.pt\n"
     ]
    },
    {
     "name": "stderr",
     "output_type": "stream",
     "text": [
      "WARNING:root:Images sizes do not match. This will causes images to be display incorrectly in the UI.\n",
      "WARNING:root:Images sizes do not match. This will causes images to be display incorrectly in the UI.\n",
      "WARNING:root:Images sizes do not match. This will causes images to be display incorrectly in the UI.\n",
      "WARNING:root:Images sizes do not match. This will causes images to be display incorrectly in the UI.\n"
     ]
    },
    {
     "name": "stdout",
     "output_type": "stream",
     "text": [
      "Epoch 3, Itrs 380, Loss=0.3411\n",
      "Epoch 3, Itrs 400, Loss=0.3149\n",
      "Epoch 3, Itrs 420, Loss=0.3043\n",
      "Epoch 3, Itrs 440, Loss=0.2511\n",
      "Epoch 3, Itrs 460, Loss=0.3331\n",
      "Epoch 3, Itrs 480, Loss=0.3014\n",
      "Epoch 3, Itrs 500, Loss=0.2807\n",
      "Epoch 3, Itrs 520, Loss=0.3661\n",
      "Epoch 3, Itrs 540, Loss=0.2887\n",
      "Model saved at: ./output/Coding_Task_2/deeplabv3plus_resnet50_run2/checkpoints/latest.pt\n",
      "Validation...\n"
     ]
    },
    {
     "name": "stderr",
     "output_type": "stream",
     "text": [
      "1449it [00:23, 61.74it/s]\n"
     ]
    },
    {
     "name": "stdout",
     "output_type": "stream",
     "text": [
      "\n",
      "Overall Acc: 0.843956\n",
      "Mean Acc: 0.749609\n",
      "FreqW Acc: 0.757605\n",
      "Mean IoU: 0.516473\n",
      "\n",
      "Model saved at: ./output/Coding_Task_2/deeplabv3plus_resnet50_run2/checkpoints/best.pt\n"
     ]
    },
    {
     "name": "stderr",
     "output_type": "stream",
     "text": [
      "WARNING:root:Images sizes do not match. This will causes images to be display incorrectly in the UI.\n",
      "WARNING:root:Images sizes do not match. This will causes images to be display incorrectly in the UI.\n",
      "WARNING:root:Images sizes do not match. This will causes images to be display incorrectly in the UI.\n",
      "WARNING:root:Images sizes do not match. This will causes images to be display incorrectly in the UI.\n"
     ]
    },
    {
     "name": "stdout",
     "output_type": "stream",
     "text": [
      "Epoch 4, Itrs 560, Loss=0.3214\n",
      "Epoch 4, Itrs 580, Loss=0.2636\n",
      "Epoch 4, Itrs 600, Loss=0.2485\n",
      "Epoch 4, Itrs 620, Loss=0.3100\n",
      "Epoch 4, Itrs 640, Loss=0.2458\n",
      "Epoch 4, Itrs 660, Loss=0.2927\n",
      "Epoch 4, Itrs 680, Loss=0.2713\n",
      "Epoch 4, Itrs 700, Loss=0.3007\n",
      "Epoch 4, Itrs 720, Loss=0.2538\n",
      "Model saved at: ./output/Coding_Task_2/deeplabv3plus_resnet50_run2/checkpoints/latest.pt\n",
      "Validation...\n"
     ]
    },
    {
     "name": "stderr",
     "output_type": "stream",
     "text": [
      "1449it [00:23, 61.84it/s]\n"
     ]
    },
    {
     "name": "stdout",
     "output_type": "stream",
     "text": [
      "\n",
      "Overall Acc: 0.836516\n",
      "Mean Acc: 0.775777\n",
      "FreqW Acc: 0.748567\n",
      "Mean IoU: 0.509173\n",
      "\n"
     ]
    },
    {
     "name": "stderr",
     "output_type": "stream",
     "text": [
      "WARNING:root:Images sizes do not match. This will causes images to be display incorrectly in the UI.\n",
      "WARNING:root:Images sizes do not match. This will causes images to be display incorrectly in the UI.\n",
      "WARNING:root:Images sizes do not match. This will causes images to be display incorrectly in the UI.\n",
      "WARNING:root:Images sizes do not match. This will causes images to be display incorrectly in the UI.\n"
     ]
    },
    {
     "name": "stdout",
     "output_type": "stream",
     "text": [
      "Epoch 5, Itrs 740, Loss=0.2598\n",
      "Epoch 5, Itrs 760, Loss=0.2652\n",
      "Epoch 5, Itrs 780, Loss=0.2410\n",
      "Epoch 5, Itrs 800, Loss=0.2243\n",
      "Epoch 5, Itrs 820, Loss=0.2377\n",
      "Epoch 5, Itrs 840, Loss=0.2259\n",
      "Epoch 5, Itrs 860, Loss=0.2203\n",
      "Epoch 5, Itrs 880, Loss=0.2060\n",
      "Epoch 5, Itrs 900, Loss=0.1938\n",
      "Model saved at: ./output/Coding_Task_2/deeplabv3plus_resnet50_run2/checkpoints/epoch_5.pt\n",
      "Model saved at: ./output/Coding_Task_2/deeplabv3plus_resnet50_run2/checkpoints/latest.pt\n",
      "Validation...\n"
     ]
    },
    {
     "name": "stderr",
     "output_type": "stream",
     "text": [
      "1449it [00:23, 61.65it/s]\n"
     ]
    },
    {
     "name": "stdout",
     "output_type": "stream",
     "text": [
      "\n",
      "Overall Acc: 0.823894\n",
      "Mean Acc: 0.820769\n",
      "FreqW Acc: 0.734307\n",
      "Mean IoU: 0.509544\n",
      "\n"
     ]
    },
    {
     "name": "stderr",
     "output_type": "stream",
     "text": [
      "WARNING:root:Images sizes do not match. This will causes images to be display incorrectly in the UI.\n",
      "WARNING:root:Images sizes do not match. This will causes images to be display incorrectly in the UI.\n",
      "WARNING:root:Images sizes do not match. This will causes images to be display incorrectly in the UI.\n",
      "WARNING:root:Images sizes do not match. This will causes images to be display incorrectly in the UI.\n"
     ]
    },
    {
     "name": "stdout",
     "output_type": "stream",
     "text": [
      "Epoch 6, Itrs 920, Loss=0.2438\n",
      "Epoch 6, Itrs 940, Loss=0.2099\n",
      "Epoch 6, Itrs 960, Loss=0.2084\n",
      "Epoch 6, Itrs 980, Loss=0.2012\n",
      "Epoch 6, Itrs 1000, Loss=0.2008\n",
      "Epoch 6, Itrs 1020, Loss=0.2454\n",
      "Epoch 6, Itrs 1040, Loss=0.2240\n",
      "Epoch 6, Itrs 1060, Loss=0.1897\n",
      "Epoch 6, Itrs 1080, Loss=0.2150\n",
      "Model saved at: ./output/Coding_Task_2/deeplabv3plus_resnet50_run2/checkpoints/latest.pt\n",
      "Validation...\n"
     ]
    },
    {
     "name": "stderr",
     "output_type": "stream",
     "text": [
      "1449it [00:24, 60.02it/s]\n"
     ]
    },
    {
     "name": "stdout",
     "output_type": "stream",
     "text": [
      "\n",
      "Overall Acc: 0.846677\n",
      "Mean Acc: 0.801617\n",
      "FreqW Acc: 0.765153\n",
      "Mean IoU: 0.540093\n",
      "\n",
      "Model saved at: ./output/Coding_Task_2/deeplabv3plus_resnet50_run2/checkpoints/best.pt\n"
     ]
    },
    {
     "name": "stderr",
     "output_type": "stream",
     "text": [
      "WARNING:root:Images sizes do not match. This will causes images to be display incorrectly in the UI.\n",
      "WARNING:root:Images sizes do not match. This will causes images to be display incorrectly in the UI.\n",
      "WARNING:root:Images sizes do not match. This will causes images to be display incorrectly in the UI.\n",
      "WARNING:root:Images sizes do not match. This will causes images to be display incorrectly in the UI.\n"
     ]
    },
    {
     "name": "stdout",
     "output_type": "stream",
     "text": [
      "Epoch 7, Itrs 1100, Loss=0.1932\n",
      "Epoch 7, Itrs 1120, Loss=0.1738\n",
      "Epoch 7, Itrs 1140, Loss=0.1973\n",
      "Epoch 7, Itrs 1160, Loss=0.1643\n",
      "Epoch 7, Itrs 1180, Loss=0.1931\n",
      "Epoch 7, Itrs 1200, Loss=0.2360\n",
      "Epoch 7, Itrs 1220, Loss=0.2227\n",
      "Epoch 7, Itrs 1240, Loss=0.2167\n",
      "Epoch 7, Itrs 1260, Loss=0.2126\n",
      "Epoch 7, Itrs 1280, Loss=0.1856\n",
      "Model saved at: ./output/Coding_Task_2/deeplabv3plus_resnet50_run2/checkpoints/latest.pt\n",
      "Validation...\n"
     ]
    },
    {
     "name": "stderr",
     "output_type": "stream",
     "text": [
      "1449it [00:22, 63.02it/s]\n"
     ]
    },
    {
     "name": "stdout",
     "output_type": "stream",
     "text": [
      "\n",
      "Overall Acc: 0.878451\n",
      "Mean Acc: 0.792016\n",
      "FreqW Acc: 0.802016\n",
      "Mean IoU: 0.580562\n",
      "\n",
      "Model saved at: ./output/Coding_Task_2/deeplabv3plus_resnet50_run2/checkpoints/best.pt\n"
     ]
    },
    {
     "name": "stderr",
     "output_type": "stream",
     "text": [
      "WARNING:root:Images sizes do not match. This will causes images to be display incorrectly in the UI.\n",
      "WARNING:root:Images sizes do not match. This will causes images to be display incorrectly in the UI.\n",
      "WARNING:root:Images sizes do not match. This will causes images to be display incorrectly in the UI.\n",
      "WARNING:root:Images sizes do not match. This will causes images to be display incorrectly in the UI.\n"
     ]
    },
    {
     "name": "stdout",
     "output_type": "stream",
     "text": [
      "Epoch 8, Itrs 1300, Loss=0.1906\n",
      "Epoch 8, Itrs 1320, Loss=0.1725\n",
      "Epoch 8, Itrs 1340, Loss=0.2113\n",
      "Epoch 8, Itrs 1360, Loss=0.2457\n",
      "Epoch 8, Itrs 1380, Loss=0.2038\n",
      "Epoch 8, Itrs 1400, Loss=0.1878\n",
      "Epoch 8, Itrs 1420, Loss=0.1418\n",
      "Epoch 8, Itrs 1440, Loss=0.1985\n",
      "Epoch 8, Itrs 1460, Loss=0.1915\n",
      "Model saved at: ./output/Coding_Task_2/deeplabv3plus_resnet50_run2/checkpoints/latest.pt\n",
      "Validation...\n"
     ]
    },
    {
     "name": "stderr",
     "output_type": "stream",
     "text": [
      "1449it [00:23, 62.94it/s]\n"
     ]
    },
    {
     "name": "stdout",
     "output_type": "stream",
     "text": [
      "\n",
      "Overall Acc: 0.867290\n",
      "Mean Acc: 0.809522\n",
      "FreqW Acc: 0.788320\n",
      "Mean IoU: 0.569378\n",
      "\n"
     ]
    },
    {
     "name": "stderr",
     "output_type": "stream",
     "text": [
      "WARNING:root:Images sizes do not match. This will causes images to be display incorrectly in the UI.\n",
      "WARNING:root:Images sizes do not match. This will causes images to be display incorrectly in the UI.\n",
      "WARNING:root:Images sizes do not match. This will causes images to be display incorrectly in the UI.\n",
      "WARNING:root:Images sizes do not match. This will causes images to be display incorrectly in the UI.\n"
     ]
    },
    {
     "name": "stdout",
     "output_type": "stream",
     "text": [
      "Epoch 9, Itrs 1480, Loss=0.1743\n",
      "Epoch 9, Itrs 1500, Loss=0.1726\n",
      "Epoch 9, Itrs 1520, Loss=0.1448\n",
      "Epoch 9, Itrs 1540, Loss=0.1771\n",
      "Epoch 9, Itrs 1560, Loss=0.1845\n",
      "Epoch 9, Itrs 1580, Loss=0.1673\n",
      "Epoch 9, Itrs 1600, Loss=0.1659\n",
      "Epoch 9, Itrs 1620, Loss=0.1504\n",
      "Epoch 9, Itrs 1640, Loss=0.1724\n",
      "Model saved at: ./output/Coding_Task_2/deeplabv3plus_resnet50_run2/checkpoints/latest.pt\n",
      "Validation...\n"
     ]
    },
    {
     "name": "stderr",
     "output_type": "stream",
     "text": [
      "1449it [00:22, 63.21it/s]\n"
     ]
    },
    {
     "name": "stdout",
     "output_type": "stream",
     "text": [
      "\n",
      "Overall Acc: 0.863991\n",
      "Mean Acc: 0.825010\n",
      "FreqW Acc: 0.785073\n",
      "Mean IoU: 0.566377\n",
      "\n"
     ]
    },
    {
     "name": "stderr",
     "output_type": "stream",
     "text": [
      "WARNING:root:Images sizes do not match. This will causes images to be display incorrectly in the UI.\n",
      "WARNING:root:Images sizes do not match. This will causes images to be display incorrectly in the UI.\n",
      "WARNING:root:Images sizes do not match. This will causes images to be display incorrectly in the UI.\n",
      "WARNING:root:Images sizes do not match. This will causes images to be display incorrectly in the UI.\n"
     ]
    },
    {
     "name": "stdout",
     "output_type": "stream",
     "text": [
      "Epoch 10, Itrs 1660, Loss=0.1858\n",
      "Epoch 10, Itrs 1680, Loss=0.1824\n",
      "Epoch 10, Itrs 1700, Loss=0.1544\n",
      "Epoch 10, Itrs 1720, Loss=0.1416\n",
      "Epoch 10, Itrs 1740, Loss=0.1524\n",
      "Epoch 10, Itrs 1760, Loss=0.1519\n",
      "Epoch 10, Itrs 1780, Loss=0.1857\n",
      "Epoch 10, Itrs 1800, Loss=0.1512\n",
      "Epoch 10, Itrs 1820, Loss=0.1835\n",
      "Model saved at: ./output/Coding_Task_2/deeplabv3plus_resnet50_run2/checkpoints/epoch_10.pt\n",
      "Model saved at: ./output/Coding_Task_2/deeplabv3plus_resnet50_run2/checkpoints/latest.pt\n",
      "Validation...\n"
     ]
    },
    {
     "name": "stderr",
     "output_type": "stream",
     "text": [
      "1449it [00:23, 62.96it/s]\n"
     ]
    },
    {
     "name": "stdout",
     "output_type": "stream",
     "text": [
      "\n",
      "Overall Acc: 0.882336\n",
      "Mean Acc: 0.805428\n",
      "FreqW Acc: 0.810142\n",
      "Mean IoU: 0.607160\n",
      "\n",
      "Model saved at: ./output/Coding_Task_2/deeplabv3plus_resnet50_run2/checkpoints/best.pt\n"
     ]
    },
    {
     "name": "stderr",
     "output_type": "stream",
     "text": [
      "WARNING:root:Images sizes do not match. This will causes images to be display incorrectly in the UI.\n",
      "WARNING:root:Images sizes do not match. This will causes images to be display incorrectly in the UI.\n",
      "WARNING:root:Images sizes do not match. This will causes images to be display incorrectly in the UI.\n",
      "WARNING:root:Images sizes do not match. This will causes images to be display incorrectly in the UI.\n"
     ]
    },
    {
     "name": "stdout",
     "output_type": "stream",
     "text": [
      "Epoch 11, Itrs 1840, Loss=0.1745\n",
      "Epoch 11, Itrs 1860, Loss=0.1675\n",
      "Epoch 11, Itrs 1880, Loss=0.1351\n",
      "Epoch 11, Itrs 1900, Loss=0.1548\n",
      "Epoch 11, Itrs 1920, Loss=0.1426\n",
      "Epoch 11, Itrs 1940, Loss=0.1417\n",
      "Epoch 11, Itrs 1960, Loss=0.1317\n",
      "Epoch 11, Itrs 1980, Loss=0.1539\n",
      "Epoch 11, Itrs 2000, Loss=0.1522\n",
      "Model saved at: ./output/Coding_Task_2/deeplabv3plus_resnet50_run2/checkpoints/latest.pt\n",
      "Validation...\n"
     ]
    },
    {
     "name": "stderr",
     "output_type": "stream",
     "text": [
      "1449it [00:22, 63.93it/s]\n"
     ]
    },
    {
     "name": "stdout",
     "output_type": "stream",
     "text": [
      "\n",
      "Overall Acc: 0.885701\n",
      "Mean Acc: 0.800265\n",
      "FreqW Acc: 0.812740\n",
      "Mean IoU: 0.596682\n",
      "\n"
     ]
    },
    {
     "name": "stderr",
     "output_type": "stream",
     "text": [
      "WARNING:root:Images sizes do not match. This will causes images to be display incorrectly in the UI.\n",
      "WARNING:root:Images sizes do not match. This will causes images to be display incorrectly in the UI.\n",
      "WARNING:root:Images sizes do not match. This will causes images to be display incorrectly in the UI.\n",
      "WARNING:root:Images sizes do not match. This will causes images to be display incorrectly in the UI.\n"
     ]
    },
    {
     "name": "stdout",
     "output_type": "stream",
     "text": [
      "Epoch 12, Itrs 2020, Loss=0.1486\n",
      "Epoch 12, Itrs 2040, Loss=0.1409\n",
      "Epoch 12, Itrs 2060, Loss=0.1626\n",
      "Epoch 12, Itrs 2080, Loss=0.1485\n",
      "Epoch 12, Itrs 2100, Loss=0.1531\n",
      "Epoch 12, Itrs 2120, Loss=0.1484\n",
      "Epoch 12, Itrs 2140, Loss=0.1676\n",
      "Epoch 12, Itrs 2160, Loss=0.1441\n",
      "Epoch 12, Itrs 2180, Loss=0.1320\n",
      "Model saved at: ./output/Coding_Task_2/deeplabv3plus_resnet50_run2/checkpoints/latest.pt\n",
      "Validation...\n"
     ]
    },
    {
     "name": "stderr",
     "output_type": "stream",
     "text": [
      "1449it [00:22, 63.84it/s]\n"
     ]
    },
    {
     "name": "stdout",
     "output_type": "stream",
     "text": [
      "\n",
      "Overall Acc: 0.883513\n",
      "Mean Acc: 0.810032\n",
      "FreqW Acc: 0.810699\n",
      "Mean IoU: 0.604186\n",
      "\n"
     ]
    },
    {
     "name": "stderr",
     "output_type": "stream",
     "text": [
      "WARNING:root:Images sizes do not match. This will causes images to be display incorrectly in the UI.\n",
      "WARNING:root:Images sizes do not match. This will causes images to be display incorrectly in the UI.\n",
      "WARNING:root:Images sizes do not match. This will causes images to be display incorrectly in the UI.\n",
      "WARNING:root:Images sizes do not match. This will causes images to be display incorrectly in the UI.\n"
     ]
    },
    {
     "name": "stdout",
     "output_type": "stream",
     "text": [
      "Epoch 13, Itrs 2200, Loss=0.1446\n",
      "Epoch 13, Itrs 2220, Loss=0.1356\n",
      "Epoch 13, Itrs 2240, Loss=0.1285\n",
      "Epoch 13, Itrs 2260, Loss=0.1516\n",
      "Epoch 13, Itrs 2280, Loss=0.1392\n",
      "Epoch 13, Itrs 2300, Loss=0.1348\n",
      "Epoch 13, Itrs 2320, Loss=0.1440\n",
      "Epoch 13, Itrs 2340, Loss=0.1618\n",
      "Epoch 13, Itrs 2360, Loss=0.1530\n",
      "Model saved at: ./output/Coding_Task_2/deeplabv3plus_resnet50_run2/checkpoints/latest.pt\n",
      "Validation...\n"
     ]
    },
    {
     "name": "stderr",
     "output_type": "stream",
     "text": [
      "1449it [00:22, 63.79it/s]\n"
     ]
    },
    {
     "name": "stdout",
     "output_type": "stream",
     "text": [
      "\n",
      "Overall Acc: 0.884551\n",
      "Mean Acc: 0.800186\n",
      "FreqW Acc: 0.812113\n",
      "Mean IoU: 0.599210\n",
      "\n"
     ]
    },
    {
     "name": "stderr",
     "output_type": "stream",
     "text": [
      "WARNING:root:Images sizes do not match. This will causes images to be display incorrectly in the UI.\n",
      "WARNING:root:Images sizes do not match. This will causes images to be display incorrectly in the UI.\n",
      "WARNING:root:Images sizes do not match. This will causes images to be display incorrectly in the UI.\n",
      "WARNING:root:Images sizes do not match. This will causes images to be display incorrectly in the UI.\n"
     ]
    },
    {
     "name": "stdout",
     "output_type": "stream",
     "text": [
      "Epoch 14, Itrs 2380, Loss=0.1249\n",
      "Epoch 14, Itrs 2400, Loss=0.1322\n",
      "Epoch 14, Itrs 2420, Loss=0.1566\n",
      "Epoch 14, Itrs 2440, Loss=0.1160\n",
      "Epoch 14, Itrs 2460, Loss=0.1450\n",
      "Epoch 14, Itrs 2480, Loss=0.1419\n",
      "Epoch 14, Itrs 2500, Loss=0.1248\n",
      "Epoch 14, Itrs 2520, Loss=0.1359\n",
      "Epoch 14, Itrs 2540, Loss=0.1208\n",
      "Epoch 14, Itrs 2560, Loss=0.1394\n",
      "Model saved at: ./output/Coding_Task_2/deeplabv3plus_resnet50_run2/checkpoints/latest.pt\n",
      "Validation...\n"
     ]
    },
    {
     "name": "stderr",
     "output_type": "stream",
     "text": [
      "1449it [00:22, 63.21it/s]\n"
     ]
    },
    {
     "name": "stdout",
     "output_type": "stream",
     "text": [
      "\n",
      "Overall Acc: 0.881289\n",
      "Mean Acc: 0.793278\n",
      "FreqW Acc: 0.807059\n",
      "Mean IoU: 0.592752\n",
      "\n"
     ]
    },
    {
     "name": "stderr",
     "output_type": "stream",
     "text": [
      "WARNING:root:Images sizes do not match. This will causes images to be display incorrectly in the UI.\n",
      "WARNING:root:Images sizes do not match. This will causes images to be display incorrectly in the UI.\n",
      "WARNING:root:Images sizes do not match. This will causes images to be display incorrectly in the UI.\n",
      "WARNING:root:Images sizes do not match. This will causes images to be display incorrectly in the UI.\n"
     ]
    },
    {
     "name": "stdout",
     "output_type": "stream",
     "text": [
      "Epoch 15, Itrs 2580, Loss=0.1275\n",
      "Epoch 15, Itrs 2600, Loss=0.1228\n",
      "Epoch 15, Itrs 2620, Loss=0.1450\n",
      "Epoch 15, Itrs 2640, Loss=0.1405\n",
      "Epoch 15, Itrs 2660, Loss=0.1180\n",
      "Epoch 15, Itrs 2680, Loss=0.1306\n",
      "Epoch 15, Itrs 2700, Loss=0.1395\n",
      "Epoch 15, Itrs 2720, Loss=0.1365\n",
      "Epoch 15, Itrs 2740, Loss=0.1384\n",
      "Model saved at: ./output/Coding_Task_2/deeplabv3plus_resnet50_run2/checkpoints/epoch_15.pt\n",
      "Model saved at: ./output/Coding_Task_2/deeplabv3plus_resnet50_run2/checkpoints/latest.pt\n",
      "Validation...\n"
     ]
    },
    {
     "name": "stderr",
     "output_type": "stream",
     "text": [
      "1449it [00:22, 63.40it/s]\n"
     ]
    },
    {
     "name": "stdout",
     "output_type": "stream",
     "text": [
      "\n",
      "Overall Acc: 0.893745\n",
      "Mean Acc: 0.799773\n",
      "FreqW Acc: 0.822401\n",
      "Mean IoU: 0.617680\n",
      "\n",
      "Model saved at: ./output/Coding_Task_2/deeplabv3plus_resnet50_run2/checkpoints/best.pt\n"
     ]
    },
    {
     "name": "stderr",
     "output_type": "stream",
     "text": [
      "WARNING:root:Images sizes do not match. This will causes images to be display incorrectly in the UI.\n",
      "WARNING:root:Images sizes do not match. This will causes images to be display incorrectly in the UI.\n",
      "WARNING:root:Images sizes do not match. This will causes images to be display incorrectly in the UI.\n",
      "WARNING:root:Images sizes do not match. This will causes images to be display incorrectly in the UI.\n"
     ]
    },
    {
     "name": "stdout",
     "output_type": "stream",
     "text": [
      "Epoch 16, Itrs 2760, Loss=0.1429\n",
      "Epoch 16, Itrs 2780, Loss=0.1398\n",
      "Epoch 16, Itrs 2800, Loss=0.1342\n",
      "Epoch 16, Itrs 2820, Loss=0.1486\n",
      "Epoch 16, Itrs 2840, Loss=0.1325\n",
      "Epoch 16, Itrs 2860, Loss=0.1419\n",
      "Epoch 16, Itrs 2880, Loss=0.1134\n",
      "Epoch 16, Itrs 2900, Loss=0.1184\n",
      "Epoch 16, Itrs 2920, Loss=0.1251\n",
      "Model saved at: ./output/Coding_Task_2/deeplabv3plus_resnet50_run2/checkpoints/latest.pt\n",
      "Validation...\n"
     ]
    },
    {
     "name": "stderr",
     "output_type": "stream",
     "text": [
      "1449it [00:22, 63.03it/s]\n"
     ]
    },
    {
     "name": "stdout",
     "output_type": "stream",
     "text": [
      "\n",
      "Overall Acc: 0.892688\n",
      "Mean Acc: 0.797304\n",
      "FreqW Acc: 0.821368\n",
      "Mean IoU: 0.616114\n",
      "\n"
     ]
    },
    {
     "name": "stderr",
     "output_type": "stream",
     "text": [
      "WARNING:root:Images sizes do not match. This will causes images to be display incorrectly in the UI.\n",
      "WARNING:root:Images sizes do not match. This will causes images to be display incorrectly in the UI.\n",
      "WARNING:root:Images sizes do not match. This will causes images to be display incorrectly in the UI.\n",
      "WARNING:root:Images sizes do not match. This will causes images to be display incorrectly in the UI.\n"
     ]
    },
    {
     "name": "stdout",
     "output_type": "stream",
     "text": [
      "Epoch 17, Itrs 2940, Loss=0.1009\n",
      "Epoch 17, Itrs 2960, Loss=0.1275\n",
      "Epoch 17, Itrs 2980, Loss=0.1061\n",
      "Epoch 17, Itrs 3000, Loss=0.1441\n",
      "Epoch 17, Itrs 3020, Loss=0.1395\n",
      "Epoch 17, Itrs 3040, Loss=0.1458\n",
      "Epoch 17, Itrs 3060, Loss=0.1040\n",
      "Epoch 17, Itrs 3080, Loss=0.1149\n",
      "Epoch 17, Itrs 3100, Loss=0.1207\n",
      "Model saved at: ./output/Coding_Task_2/deeplabv3plus_resnet50_run2/checkpoints/latest.pt\n",
      "Validation...\n"
     ]
    },
    {
     "name": "stderr",
     "output_type": "stream",
     "text": [
      "1449it [00:22, 63.10it/s]\n"
     ]
    },
    {
     "name": "stdout",
     "output_type": "stream",
     "text": [
      "\n",
      "Overall Acc: 0.888576\n",
      "Mean Acc: 0.820212\n",
      "FreqW Acc: 0.818669\n",
      "Mean IoU: 0.612778\n",
      "\n"
     ]
    },
    {
     "name": "stderr",
     "output_type": "stream",
     "text": [
      "WARNING:root:Images sizes do not match. This will causes images to be display incorrectly in the UI.\n",
      "WARNING:root:Images sizes do not match. This will causes images to be display incorrectly in the UI.\n",
      "WARNING:root:Images sizes do not match. This will causes images to be display incorrectly in the UI.\n",
      "WARNING:root:Images sizes do not match. This will causes images to be display incorrectly in the UI.\n"
     ]
    },
    {
     "name": "stdout",
     "output_type": "stream",
     "text": [
      "Epoch 18, Itrs 3120, Loss=0.1120\n",
      "Epoch 18, Itrs 3140, Loss=0.1059\n",
      "Epoch 18, Itrs 3160, Loss=0.1087\n",
      "Epoch 18, Itrs 3180, Loss=0.1088\n",
      "Epoch 18, Itrs 3200, Loss=0.1107\n",
      "Epoch 18, Itrs 3220, Loss=0.1223\n",
      "Epoch 18, Itrs 3240, Loss=0.1018\n",
      "Epoch 18, Itrs 3260, Loss=0.1082\n",
      "Epoch 18, Itrs 3280, Loss=0.1028\n",
      "Model saved at: ./output/Coding_Task_2/deeplabv3plus_resnet50_run2/checkpoints/latest.pt\n",
      "Validation...\n"
     ]
    },
    {
     "name": "stderr",
     "output_type": "stream",
     "text": [
      "1449it [00:23, 62.60it/s]\n"
     ]
    },
    {
     "name": "stdout",
     "output_type": "stream",
     "text": [
      "\n",
      "Overall Acc: 0.900999\n",
      "Mean Acc: 0.800505\n",
      "FreqW Acc: 0.832359\n",
      "Mean IoU: 0.632703\n",
      "\n",
      "Model saved at: ./output/Coding_Task_2/deeplabv3plus_resnet50_run2/checkpoints/best.pt\n"
     ]
    },
    {
     "name": "stderr",
     "output_type": "stream",
     "text": [
      "WARNING:root:Images sizes do not match. This will causes images to be display incorrectly in the UI.\n",
      "WARNING:root:Images sizes do not match. This will causes images to be display incorrectly in the UI.\n",
      "WARNING:root:Images sizes do not match. This will causes images to be display incorrectly in the UI.\n",
      "WARNING:root:Images sizes do not match. This will causes images to be display incorrectly in the UI.\n"
     ]
    },
    {
     "name": "stdout",
     "output_type": "stream",
     "text": [
      "Epoch 19, Itrs 3300, Loss=0.1037\n",
      "Epoch 19, Itrs 3320, Loss=0.1160\n",
      "Epoch 19, Itrs 3340, Loss=0.0955\n",
      "Epoch 19, Itrs 3360, Loss=0.0947\n",
      "Epoch 19, Itrs 3380, Loss=0.1192\n",
      "Epoch 19, Itrs 3400, Loss=0.1271\n",
      "Epoch 19, Itrs 3420, Loss=0.1177\n",
      "Epoch 19, Itrs 3440, Loss=0.1167\n",
      "Epoch 19, Itrs 3460, Loss=0.1310\n",
      "Model saved at: ./output/Coding_Task_2/deeplabv3plus_resnet50_run2/checkpoints/latest.pt\n",
      "Validation...\n"
     ]
    },
    {
     "name": "stderr",
     "output_type": "stream",
     "text": [
      "1449it [00:23, 61.96it/s]\n"
     ]
    },
    {
     "name": "stdout",
     "output_type": "stream",
     "text": [
      "\n",
      "Overall Acc: 0.899597\n",
      "Mean Acc: 0.798190\n",
      "FreqW Acc: 0.831154\n",
      "Mean IoU: 0.632756\n",
      "\n",
      "Model saved at: ./output/Coding_Task_2/deeplabv3plus_resnet50_run2/checkpoints/best.pt\n"
     ]
    },
    {
     "name": "stderr",
     "output_type": "stream",
     "text": [
      "WARNING:root:Images sizes do not match. This will causes images to be display incorrectly in the UI.\n",
      "WARNING:root:Images sizes do not match. This will causes images to be display incorrectly in the UI.\n",
      "WARNING:root:Images sizes do not match. This will causes images to be display incorrectly in the UI.\n",
      "WARNING:root:Images sizes do not match. This will causes images to be display incorrectly in the UI.\n"
     ]
    },
    {
     "name": "stdout",
     "output_type": "stream",
     "text": [
      "Epoch 20, Itrs 3480, Loss=0.1236\n",
      "Epoch 20, Itrs 3500, Loss=0.1083\n",
      "Epoch 20, Itrs 3520, Loss=0.1033\n",
      "Epoch 20, Itrs 3540, Loss=0.1035\n",
      "Epoch 20, Itrs 3560, Loss=0.0988\n",
      "Epoch 20, Itrs 3580, Loss=0.1272\n",
      "Epoch 20, Itrs 3600, Loss=0.1458\n",
      "Epoch 20, Itrs 3620, Loss=0.1301\n",
      "Epoch 20, Itrs 3640, Loss=0.1035\n",
      "Epoch 20, Itrs 3660, Loss=0.1164\n",
      "Model saved at: ./output/Coding_Task_2/deeplabv3plus_resnet50_run2/checkpoints/epoch_20.pt\n",
      "Model saved at: ./output/Coding_Task_2/deeplabv3plus_resnet50_run2/checkpoints/latest.pt\n",
      "Validation...\n"
     ]
    },
    {
     "name": "stderr",
     "output_type": "stream",
     "text": [
      "1449it [00:23, 62.63it/s]\n"
     ]
    },
    {
     "name": "stdout",
     "output_type": "stream",
     "text": [
      "\n",
      "Overall Acc: 0.888447\n",
      "Mean Acc: 0.808461\n",
      "FreqW Acc: 0.816857\n",
      "Mean IoU: 0.610233\n",
      "\n"
     ]
    },
    {
     "name": "stderr",
     "output_type": "stream",
     "text": [
      "WARNING:root:Images sizes do not match. This will causes images to be display incorrectly in the UI.\n",
      "WARNING:root:Images sizes do not match. This will causes images to be display incorrectly in the UI.\n",
      "WARNING:root:Images sizes do not match. This will causes images to be display incorrectly in the UI.\n",
      "WARNING:root:Images sizes do not match. This will causes images to be display incorrectly in the UI.\n"
     ]
    },
    {
     "name": "stdout",
     "output_type": "stream",
     "text": [
      "Epoch 21, Itrs 3680, Loss=0.1253\n",
      "Epoch 21, Itrs 3700, Loss=0.0945\n",
      "Epoch 21, Itrs 3720, Loss=0.1226\n",
      "Epoch 21, Itrs 3740, Loss=0.0951\n",
      "Epoch 21, Itrs 3760, Loss=0.1014\n",
      "Epoch 21, Itrs 3780, Loss=0.1100\n",
      "Epoch 21, Itrs 3800, Loss=0.1058\n",
      "Epoch 21, Itrs 3820, Loss=0.1231\n",
      "Epoch 21, Itrs 3840, Loss=0.1062\n",
      "Model saved at: ./output/Coding_Task_2/deeplabv3plus_resnet50_run2/checkpoints/latest.pt\n",
      "Validation...\n"
     ]
    },
    {
     "name": "stderr",
     "output_type": "stream",
     "text": [
      "1449it [00:24, 59.56it/s]\n"
     ]
    },
    {
     "name": "stdout",
     "output_type": "stream",
     "text": [
      "\n",
      "Overall Acc: 0.897364\n",
      "Mean Acc: 0.794550\n",
      "FreqW Acc: 0.827273\n",
      "Mean IoU: 0.621356\n",
      "\n"
     ]
    },
    {
     "name": "stderr",
     "output_type": "stream",
     "text": [
      "WARNING:root:Images sizes do not match. This will causes images to be display incorrectly in the UI.\n",
      "WARNING:root:Images sizes do not match. This will causes images to be display incorrectly in the UI.\n",
      "WARNING:root:Images sizes do not match. This will causes images to be display incorrectly in the UI.\n",
      "WARNING:root:Images sizes do not match. This will causes images to be display incorrectly in the UI.\n"
     ]
    },
    {
     "name": "stdout",
     "output_type": "stream",
     "text": [
      "Epoch 22, Itrs 3860, Loss=0.1210\n",
      "Epoch 22, Itrs 3880, Loss=0.1122\n",
      "Epoch 22, Itrs 3900, Loss=0.0961\n",
      "Epoch 22, Itrs 3920, Loss=0.0947\n",
      "Epoch 22, Itrs 3940, Loss=0.1193\n",
      "Epoch 22, Itrs 3960, Loss=0.0994\n",
      "Epoch 22, Itrs 3980, Loss=0.0943\n",
      "Epoch 22, Itrs 4000, Loss=0.0935\n",
      "Epoch 22, Itrs 4020, Loss=0.1132\n",
      "Model saved at: ./output/Coding_Task_2/deeplabv3plus_resnet50_run2/checkpoints/latest.pt\n",
      "Validation...\n"
     ]
    },
    {
     "name": "stderr",
     "output_type": "stream",
     "text": [
      "1449it [00:23, 62.10it/s]\n"
     ]
    },
    {
     "name": "stdout",
     "output_type": "stream",
     "text": [
      "\n",
      "Overall Acc: 0.899755\n",
      "Mean Acc: 0.804996\n",
      "FreqW Acc: 0.830953\n",
      "Mean IoU: 0.629987\n",
      "\n"
     ]
    },
    {
     "name": "stderr",
     "output_type": "stream",
     "text": [
      "WARNING:root:Images sizes do not match. This will causes images to be display incorrectly in the UI.\n",
      "WARNING:root:Images sizes do not match. This will causes images to be display incorrectly in the UI.\n",
      "WARNING:root:Images sizes do not match. This will causes images to be display incorrectly in the UI.\n",
      "WARNING:root:Images sizes do not match. This will causes images to be display incorrectly in the UI.\n"
     ]
    },
    {
     "name": "stdout",
     "output_type": "stream",
     "text": [
      "Epoch 23, Itrs 4040, Loss=0.1154\n",
      "Epoch 23, Itrs 4060, Loss=0.0955\n",
      "Epoch 23, Itrs 4080, Loss=0.1045\n",
      "Epoch 23, Itrs 4100, Loss=0.1022\n",
      "Epoch 23, Itrs 4120, Loss=0.0962\n",
      "Epoch 23, Itrs 4140, Loss=0.1029\n",
      "Epoch 23, Itrs 4160, Loss=0.0865\n",
      "Epoch 23, Itrs 4180, Loss=0.0984\n",
      "Epoch 23, Itrs 4200, Loss=0.0996\n",
      "Model saved at: ./output/Coding_Task_2/deeplabv3plus_resnet50_run2/checkpoints/latest.pt\n",
      "Validation...\n"
     ]
    },
    {
     "name": "stderr",
     "output_type": "stream",
     "text": [
      "1449it [00:23, 62.80it/s]\n"
     ]
    },
    {
     "name": "stdout",
     "output_type": "stream",
     "text": [
      "\n",
      "Overall Acc: 0.897990\n",
      "Mean Acc: 0.809775\n",
      "FreqW Acc: 0.828357\n",
      "Mean IoU: 0.624732\n",
      "\n"
     ]
    },
    {
     "name": "stderr",
     "output_type": "stream",
     "text": [
      "WARNING:root:Images sizes do not match. This will causes images to be display incorrectly in the UI.\n",
      "WARNING:root:Images sizes do not match. This will causes images to be display incorrectly in the UI.\n",
      "WARNING:root:Images sizes do not match. This will causes images to be display incorrectly in the UI.\n",
      "WARNING:root:Images sizes do not match. This will causes images to be display incorrectly in the UI.\n"
     ]
    },
    {
     "name": "stdout",
     "output_type": "stream",
     "text": [
      "Epoch 24, Itrs 4220, Loss=0.1141\n",
      "Epoch 24, Itrs 4240, Loss=0.0898\n",
      "Epoch 24, Itrs 4260, Loss=0.0857\n",
      "Epoch 24, Itrs 4280, Loss=0.0976\n",
      "Epoch 24, Itrs 4300, Loss=0.0877\n",
      "Epoch 24, Itrs 4320, Loss=0.0954\n",
      "Epoch 24, Itrs 4340, Loss=0.1019\n",
      "Epoch 24, Itrs 4360, Loss=0.0965\n",
      "Epoch 24, Itrs 4380, Loss=0.0974\n",
      "Model saved at: ./output/Coding_Task_2/deeplabv3plus_resnet50_run2/checkpoints/latest.pt\n",
      "Validation...\n"
     ]
    },
    {
     "name": "stderr",
     "output_type": "stream",
     "text": [
      "1449it [00:22, 63.05it/s]\n"
     ]
    },
    {
     "name": "stdout",
     "output_type": "stream",
     "text": [
      "\n",
      "Overall Acc: 0.895594\n",
      "Mean Acc: 0.811191\n",
      "FreqW Acc: 0.827260\n",
      "Mean IoU: 0.627334\n",
      "\n"
     ]
    },
    {
     "name": "stderr",
     "output_type": "stream",
     "text": [
      "WARNING:root:Images sizes do not match. This will causes images to be display incorrectly in the UI.\n",
      "WARNING:root:Images sizes do not match. This will causes images to be display incorrectly in the UI.\n",
      "WARNING:root:Images sizes do not match. This will causes images to be display incorrectly in the UI.\n",
      "WARNING:root:Images sizes do not match. This will causes images to be display incorrectly in the UI.\n"
     ]
    },
    {
     "name": "stdout",
     "output_type": "stream",
     "text": [
      "Epoch 25, Itrs 4400, Loss=0.0993\n",
      "Epoch 25, Itrs 4420, Loss=0.0919\n",
      "Epoch 25, Itrs 4440, Loss=0.0873\n",
      "Epoch 25, Itrs 4460, Loss=0.1007\n",
      "Epoch 25, Itrs 4480, Loss=0.0895\n",
      "Epoch 25, Itrs 4500, Loss=0.1016\n",
      "Epoch 25, Itrs 4520, Loss=0.1117\n",
      "Epoch 25, Itrs 4540, Loss=0.0901\n",
      "Epoch 25, Itrs 4560, Loss=0.0878\n",
      "Model saved at: ./output/Coding_Task_2/deeplabv3plus_resnet50_run2/checkpoints/epoch_25.pt\n",
      "Model saved at: ./output/Coding_Task_2/deeplabv3plus_resnet50_run2/checkpoints/latest.pt\n",
      "Validation...\n"
     ]
    },
    {
     "name": "stderr",
     "output_type": "stream",
     "text": [
      "1449it [00:24, 59.96it/s]\n"
     ]
    },
    {
     "name": "stdout",
     "output_type": "stream",
     "text": [
      "\n",
      "Overall Acc: 0.901035\n",
      "Mean Acc: 0.802870\n",
      "FreqW Acc: 0.832613\n",
      "Mean IoU: 0.636068\n",
      "\n",
      "Model saved at: ./output/Coding_Task_2/deeplabv3plus_resnet50_run2/checkpoints/best.pt\n"
     ]
    },
    {
     "name": "stderr",
     "output_type": "stream",
     "text": [
      "WARNING:root:Images sizes do not match. This will causes images to be display incorrectly in the UI.\n",
      "WARNING:root:Images sizes do not match. This will causes images to be display incorrectly in the UI.\n",
      "WARNING:root:Images sizes do not match. This will causes images to be display incorrectly in the UI.\n",
      "WARNING:root:Images sizes do not match. This will causes images to be display incorrectly in the UI.\n"
     ]
    },
    {
     "name": "stdout",
     "output_type": "stream",
     "text": [
      "Epoch 26, Itrs 4580, Loss=0.1000\n",
      "Epoch 26, Itrs 4600, Loss=0.0895\n",
      "Epoch 26, Itrs 4620, Loss=0.1073\n",
      "Epoch 26, Itrs 4640, Loss=0.1023\n",
      "Epoch 26, Itrs 4660, Loss=0.0840\n",
      "Epoch 26, Itrs 4680, Loss=0.1030\n",
      "Epoch 26, Itrs 4700, Loss=0.1021\n",
      "Epoch 26, Itrs 4720, Loss=0.1064\n",
      "Epoch 26, Itrs 4740, Loss=0.1017\n",
      "Model saved at: ./output/Coding_Task_2/deeplabv3plus_resnet50_run2/checkpoints/latest.pt\n",
      "Validation...\n"
     ]
    },
    {
     "name": "stderr",
     "output_type": "stream",
     "text": [
      "1449it [00:23, 61.65it/s]\n"
     ]
    },
    {
     "name": "stdout",
     "output_type": "stream",
     "text": [
      "\n",
      "Overall Acc: 0.900182\n",
      "Mean Acc: 0.797674\n",
      "FreqW Acc: 0.832196\n",
      "Mean IoU: 0.628919\n",
      "\n"
     ]
    },
    {
     "name": "stderr",
     "output_type": "stream",
     "text": [
      "WARNING:root:Images sizes do not match. This will causes images to be display incorrectly in the UI.\n",
      "WARNING:root:Images sizes do not match. This will causes images to be display incorrectly in the UI.\n",
      "WARNING:root:Images sizes do not match. This will causes images to be display incorrectly in the UI.\n",
      "WARNING:root:Images sizes do not match. This will causes images to be display incorrectly in the UI.\n"
     ]
    },
    {
     "name": "stdout",
     "output_type": "stream",
     "text": [
      "Epoch 27, Itrs 4760, Loss=0.0942\n",
      "Epoch 27, Itrs 4780, Loss=0.0912\n",
      "Epoch 27, Itrs 4800, Loss=0.0843\n",
      "Epoch 27, Itrs 4820, Loss=0.0850\n",
      "Epoch 27, Itrs 4840, Loss=0.0762\n",
      "Epoch 27, Itrs 4860, Loss=0.0839\n",
      "Epoch 27, Itrs 4880, Loss=0.0984\n",
      "Epoch 27, Itrs 4900, Loss=0.0940\n",
      "Epoch 27, Itrs 4920, Loss=0.0892\n",
      "Epoch 27, Itrs 4940, Loss=0.0862\n",
      "Model saved at: ./output/Coding_Task_2/deeplabv3plus_resnet50_run2/checkpoints/latest.pt\n",
      "Validation...\n"
     ]
    },
    {
     "name": "stderr",
     "output_type": "stream",
     "text": [
      "1449it [00:22, 63.20it/s]\n"
     ]
    },
    {
     "name": "stdout",
     "output_type": "stream",
     "text": [
      "\n",
      "Overall Acc: 0.902957\n",
      "Mean Acc: 0.799161\n",
      "FreqW Acc: 0.835467\n",
      "Mean IoU: 0.637275\n",
      "\n",
      "Model saved at: ./output/Coding_Task_2/deeplabv3plus_resnet50_run2/checkpoints/best.pt\n"
     ]
    },
    {
     "name": "stderr",
     "output_type": "stream",
     "text": [
      "WARNING:root:Images sizes do not match. This will causes images to be display incorrectly in the UI.\n",
      "WARNING:root:Images sizes do not match. This will causes images to be display incorrectly in the UI.\n",
      "WARNING:root:Images sizes do not match. This will causes images to be display incorrectly in the UI.\n",
      "WARNING:root:Images sizes do not match. This will causes images to be display incorrectly in the UI.\n"
     ]
    },
    {
     "name": "stdout",
     "output_type": "stream",
     "text": [
      "Epoch 28, Itrs 4960, Loss=0.0816\n",
      "Epoch 28, Itrs 4980, Loss=0.0808\n",
      "Epoch 28, Itrs 5000, Loss=0.0837\n",
      "Epoch 28, Itrs 5020, Loss=0.0847\n",
      "Epoch 28, Itrs 5040, Loss=0.0985\n",
      "Epoch 28, Itrs 5060, Loss=0.0990\n",
      "Epoch 28, Itrs 5080, Loss=0.0760\n",
      "Epoch 28, Itrs 5100, Loss=0.0822\n",
      "Epoch 28, Itrs 5120, Loss=0.1033\n",
      "Model saved at: ./output/Coding_Task_2/deeplabv3plus_resnet50_run2/checkpoints/latest.pt\n",
      "Validation...\n"
     ]
    },
    {
     "name": "stderr",
     "output_type": "stream",
     "text": [
      "1449it [00:23, 62.83it/s]\n"
     ]
    },
    {
     "name": "stdout",
     "output_type": "stream",
     "text": [
      "\n",
      "Overall Acc: 0.899492\n",
      "Mean Acc: 0.809622\n",
      "FreqW Acc: 0.831767\n",
      "Mean IoU: 0.629388\n",
      "\n"
     ]
    },
    {
     "name": "stderr",
     "output_type": "stream",
     "text": [
      "WARNING:root:Images sizes do not match. This will causes images to be display incorrectly in the UI.\n",
      "WARNING:root:Images sizes do not match. This will causes images to be display incorrectly in the UI.\n",
      "WARNING:root:Images sizes do not match. This will causes images to be display incorrectly in the UI.\n",
      "WARNING:root:Images sizes do not match. This will causes images to be display incorrectly in the UI.\n"
     ]
    },
    {
     "name": "stdout",
     "output_type": "stream",
     "text": [
      "Epoch 29, Itrs 5140, Loss=0.0825\n",
      "Epoch 29, Itrs 5160, Loss=0.0806\n",
      "Epoch 29, Itrs 5180, Loss=0.0878\n",
      "Epoch 29, Itrs 5200, Loss=0.0850\n",
      "Epoch 29, Itrs 5220, Loss=0.1083\n",
      "Epoch 29, Itrs 5240, Loss=0.0817\n",
      "Epoch 29, Itrs 5260, Loss=0.0882\n",
      "Epoch 29, Itrs 5280, Loss=0.0874\n",
      "Epoch 29, Itrs 5300, Loss=0.0926\n",
      "Model saved at: ./output/Coding_Task_2/deeplabv3plus_resnet50_run2/checkpoints/latest.pt\n",
      "Validation...\n"
     ]
    },
    {
     "name": "stderr",
     "output_type": "stream",
     "text": [
      "1449it [00:23, 62.11it/s]\n"
     ]
    },
    {
     "name": "stdout",
     "output_type": "stream",
     "text": [
      "\n",
      "Overall Acc: 0.899428\n",
      "Mean Acc: 0.812257\n",
      "FreqW Acc: 0.831888\n",
      "Mean IoU: 0.631675\n",
      "\n"
     ]
    },
    {
     "name": "stderr",
     "output_type": "stream",
     "text": [
      "WARNING:root:Images sizes do not match. This will causes images to be display incorrectly in the UI.\n",
      "WARNING:root:Images sizes do not match. This will causes images to be display incorrectly in the UI.\n",
      "WARNING:root:Images sizes do not match. This will causes images to be display incorrectly in the UI.\n",
      "WARNING:root:Images sizes do not match. This will causes images to be display incorrectly in the UI.\n"
     ]
    },
    {
     "name": "stdout",
     "output_type": "stream",
     "text": [
      "Epoch 30, Itrs 5320, Loss=0.0907\n",
      "Epoch 30, Itrs 5340, Loss=0.0883\n",
      "Epoch 30, Itrs 5360, Loss=0.0831\n",
      "Epoch 30, Itrs 5380, Loss=0.0908\n",
      "Epoch 30, Itrs 5400, Loss=0.0899\n",
      "Epoch 30, Itrs 5420, Loss=0.0979\n",
      "Epoch 30, Itrs 5440, Loss=0.0985\n",
      "Epoch 30, Itrs 5460, Loss=0.0813\n",
      "Epoch 30, Itrs 5480, Loss=0.0731\n",
      "Model saved at: ./output/Coding_Task_2/deeplabv3plus_resnet50_run2/checkpoints/epoch_30.pt\n",
      "Model saved at: ./output/Coding_Task_2/deeplabv3plus_resnet50_run2/checkpoints/latest.pt\n",
      "Validation...\n"
     ]
    },
    {
     "name": "stderr",
     "output_type": "stream",
     "text": [
      "1449it [00:23, 62.98it/s]\n"
     ]
    },
    {
     "name": "stdout",
     "output_type": "stream",
     "text": [
      "\n",
      "Overall Acc: 0.903498\n",
      "Mean Acc: 0.804954\n",
      "FreqW Acc: 0.836882\n",
      "Mean IoU: 0.639751\n",
      "\n",
      "Model saved at: ./output/Coding_Task_2/deeplabv3plus_resnet50_run2/checkpoints/best.pt\n"
     ]
    },
    {
     "name": "stderr",
     "output_type": "stream",
     "text": [
      "WARNING:root:Images sizes do not match. This will causes images to be display incorrectly in the UI.\n",
      "WARNING:root:Images sizes do not match. This will causes images to be display incorrectly in the UI.\n",
      "WARNING:root:Images sizes do not match. This will causes images to be display incorrectly in the UI.\n",
      "WARNING:root:Images sizes do not match. This will causes images to be display incorrectly in the UI.\n"
     ]
    },
    {
     "name": "stdout",
     "output_type": "stream",
     "text": [
      "Epoch 31, Itrs 5500, Loss=0.0873\n",
      "Epoch 31, Itrs 5520, Loss=0.0970\n",
      "Epoch 31, Itrs 5540, Loss=0.0932\n",
      "Epoch 31, Itrs 5560, Loss=0.0867\n",
      "Epoch 31, Itrs 5580, Loss=0.0939\n",
      "Epoch 31, Itrs 5600, Loss=0.0779\n",
      "Epoch 31, Itrs 5620, Loss=0.0863\n",
      "Epoch 31, Itrs 5640, Loss=0.0728\n",
      "Epoch 31, Itrs 5660, Loss=0.0795\n",
      "Model saved at: ./output/Coding_Task_2/deeplabv3plus_resnet50_run2/checkpoints/latest.pt\n",
      "Validation...\n"
     ]
    },
    {
     "name": "stderr",
     "output_type": "stream",
     "text": [
      "1449it [00:23, 61.92it/s]\n"
     ]
    },
    {
     "name": "stdout",
     "output_type": "stream",
     "text": [
      "\n",
      "Overall Acc: 0.904711\n",
      "Mean Acc: 0.791991\n",
      "FreqW Acc: 0.836648\n",
      "Mean IoU: 0.636832\n",
      "\n"
     ]
    },
    {
     "name": "stderr",
     "output_type": "stream",
     "text": [
      "WARNING:root:Images sizes do not match. This will causes images to be display incorrectly in the UI.\n",
      "WARNING:root:Images sizes do not match. This will causes images to be display incorrectly in the UI.\n",
      "WARNING:root:Images sizes do not match. This will causes images to be display incorrectly in the UI.\n",
      "WARNING:root:Images sizes do not match. This will causes images to be display incorrectly in the UI.\n"
     ]
    },
    {
     "name": "stdout",
     "output_type": "stream",
     "text": [
      "Epoch 32, Itrs 5680, Loss=0.0702\n",
      "Epoch 32, Itrs 5700, Loss=0.0827\n",
      "Epoch 32, Itrs 5720, Loss=0.0907\n",
      "Epoch 32, Itrs 5740, Loss=0.0982\n",
      "Epoch 32, Itrs 5760, Loss=0.0866\n",
      "Epoch 32, Itrs 5780, Loss=0.0748\n",
      "Epoch 32, Itrs 5800, Loss=0.0783\n",
      "Epoch 32, Itrs 5820, Loss=0.0798\n",
      "Epoch 32, Itrs 5840, Loss=0.0746\n",
      "Model saved at: ./output/Coding_Task_2/deeplabv3plus_resnet50_run2/checkpoints/latest.pt\n",
      "Validation...\n"
     ]
    },
    {
     "name": "stderr",
     "output_type": "stream",
     "text": [
      "1449it [00:23, 61.43it/s]\n"
     ]
    },
    {
     "name": "stdout",
     "output_type": "stream",
     "text": [
      "\n",
      "Overall Acc: 0.904350\n",
      "Mean Acc: 0.801890\n",
      "FreqW Acc: 0.837741\n",
      "Mean IoU: 0.641824\n",
      "\n",
      "Model saved at: ./output/Coding_Task_2/deeplabv3plus_resnet50_run2/checkpoints/best.pt\n"
     ]
    },
    {
     "name": "stderr",
     "output_type": "stream",
     "text": [
      "WARNING:root:Images sizes do not match. This will causes images to be display incorrectly in the UI.\n",
      "WARNING:root:Images sizes do not match. This will causes images to be display incorrectly in the UI.\n",
      "WARNING:root:Images sizes do not match. This will causes images to be display incorrectly in the UI.\n",
      "WARNING:root:Images sizes do not match. This will causes images to be display incorrectly in the UI.\n"
     ]
    },
    {
     "name": "stdout",
     "output_type": "stream",
     "text": [
      "Epoch 33, Itrs 5860, Loss=0.0790\n",
      "Epoch 33, Itrs 5880, Loss=0.0834\n",
      "Epoch 33, Itrs 5900, Loss=0.0794\n",
      "Epoch 33, Itrs 5920, Loss=0.0716\n",
      "Epoch 33, Itrs 5940, Loss=0.0881\n",
      "Epoch 33, Itrs 5960, Loss=0.0906\n",
      "Epoch 33, Itrs 5980, Loss=0.0822\n",
      "Epoch 33, Itrs 6000, Loss=0.0713\n",
      "Epoch 33, Itrs 6020, Loss=0.0971\n",
      "Model saved at: ./output/Coding_Task_2/deeplabv3plus_resnet50_run2/checkpoints/latest.pt\n",
      "Validation...\n"
     ]
    },
    {
     "name": "stderr",
     "output_type": "stream",
     "text": [
      "1449it [00:23, 62.94it/s]\n"
     ]
    },
    {
     "name": "stdout",
     "output_type": "stream",
     "text": [
      "\n",
      "Overall Acc: 0.903784\n",
      "Mean Acc: 0.797511\n",
      "FreqW Acc: 0.836254\n",
      "Mean IoU: 0.635858\n",
      "\n"
     ]
    },
    {
     "name": "stderr",
     "output_type": "stream",
     "text": [
      "WARNING:root:Images sizes do not match. This will causes images to be display incorrectly in the UI.\n",
      "WARNING:root:Images sizes do not match. This will causes images to be display incorrectly in the UI.\n",
      "WARNING:root:Images sizes do not match. This will causes images to be display incorrectly in the UI.\n",
      "WARNING:root:Images sizes do not match. This will causes images to be display incorrectly in the UI.\n"
     ]
    },
    {
     "name": "stdout",
     "output_type": "stream",
     "text": [
      "Epoch 34, Itrs 6040, Loss=0.0829\n",
      "Epoch 34, Itrs 6060, Loss=0.1029\n",
      "Epoch 34, Itrs 6080, Loss=0.0885\n",
      "Epoch 34, Itrs 6100, Loss=0.0733\n",
      "Epoch 34, Itrs 6120, Loss=0.0831\n",
      "Epoch 34, Itrs 6140, Loss=0.0792\n",
      "Epoch 34, Itrs 6160, Loss=0.0718\n",
      "Epoch 34, Itrs 6180, Loss=0.0845\n",
      "Epoch 34, Itrs 6200, Loss=0.0907\n",
      "Epoch 34, Itrs 6220, Loss=0.0902\n",
      "Model saved at: ./output/Coding_Task_2/deeplabv3plus_resnet50_run2/checkpoints/latest.pt\n",
      "Validation...\n"
     ]
    },
    {
     "name": "stderr",
     "output_type": "stream",
     "text": [
      "1449it [00:22, 63.05it/s]\n"
     ]
    },
    {
     "name": "stdout",
     "output_type": "stream",
     "text": [
      "\n",
      "Overall Acc: 0.905126\n",
      "Mean Acc: 0.800214\n",
      "FreqW Acc: 0.838290\n",
      "Mean IoU: 0.640103\n",
      "\n"
     ]
    },
    {
     "name": "stderr",
     "output_type": "stream",
     "text": [
      "WARNING:root:Images sizes do not match. This will causes images to be display incorrectly in the UI.\n",
      "WARNING:root:Images sizes do not match. This will causes images to be display incorrectly in the UI.\n",
      "WARNING:root:Images sizes do not match. This will causes images to be display incorrectly in the UI.\n",
      "WARNING:root:Images sizes do not match. This will causes images to be display incorrectly in the UI.\n"
     ]
    },
    {
     "name": "stdout",
     "output_type": "stream",
     "text": [
      "Epoch 35, Itrs 6240, Loss=0.0708\n",
      "Epoch 35, Itrs 6260, Loss=0.0835\n",
      "Epoch 35, Itrs 6280, Loss=0.0777\n",
      "Epoch 35, Itrs 6300, Loss=0.0923\n",
      "Epoch 35, Itrs 6320, Loss=0.0860\n",
      "Epoch 35, Itrs 6340, Loss=0.0774\n",
      "Epoch 35, Itrs 6360, Loss=0.0954\n",
      "Epoch 35, Itrs 6380, Loss=0.0682\n",
      "Epoch 35, Itrs 6400, Loss=0.0713\n",
      "Model saved at: ./output/Coding_Task_2/deeplabv3plus_resnet50_run2/checkpoints/epoch_35.pt\n",
      "Model saved at: ./output/Coding_Task_2/deeplabv3plus_resnet50_run2/checkpoints/latest.pt\n",
      "Validation...\n"
     ]
    },
    {
     "name": "stderr",
     "output_type": "stream",
     "text": [
      "1449it [00:22, 63.31it/s]\n"
     ]
    },
    {
     "name": "stdout",
     "output_type": "stream",
     "text": [
      "\n",
      "Overall Acc: 0.905838\n",
      "Mean Acc: 0.795744\n",
      "FreqW Acc: 0.838819\n",
      "Mean IoU: 0.640856\n",
      "\n"
     ]
    },
    {
     "name": "stderr",
     "output_type": "stream",
     "text": [
      "WARNING:root:Images sizes do not match. This will causes images to be display incorrectly in the UI.\n",
      "WARNING:root:Images sizes do not match. This will causes images to be display incorrectly in the UI.\n",
      "WARNING:root:Images sizes do not match. This will causes images to be display incorrectly in the UI.\n",
      "WARNING:root:Images sizes do not match. This will causes images to be display incorrectly in the UI.\n"
     ]
    },
    {
     "name": "stdout",
     "output_type": "stream",
     "text": [
      "Epoch 36, Itrs 6420, Loss=0.0792\n",
      "Epoch 36, Itrs 6440, Loss=0.0780\n",
      "Epoch 36, Itrs 6460, Loss=0.0798\n",
      "Epoch 36, Itrs 6480, Loss=0.0885\n",
      "Epoch 36, Itrs 6500, Loss=0.0749\n",
      "Epoch 36, Itrs 6520, Loss=0.0750\n",
      "Epoch 36, Itrs 6540, Loss=0.0713\n",
      "Epoch 36, Itrs 6560, Loss=0.0816\n",
      "Epoch 36, Itrs 6580, Loss=0.0622\n",
      "Model saved at: ./output/Coding_Task_2/deeplabv3plus_resnet50_run2/checkpoints/latest.pt\n",
      "Validation...\n"
     ]
    },
    {
     "name": "stderr",
     "output_type": "stream",
     "text": [
      "1449it [00:22, 63.32it/s]\n"
     ]
    },
    {
     "name": "stdout",
     "output_type": "stream",
     "text": [
      "\n",
      "Overall Acc: 0.906547\n",
      "Mean Acc: 0.797681\n",
      "FreqW Acc: 0.840307\n",
      "Mean IoU: 0.643388\n",
      "\n",
      "Model saved at: ./output/Coding_Task_2/deeplabv3plus_resnet50_run2/checkpoints/best.pt\n"
     ]
    },
    {
     "name": "stderr",
     "output_type": "stream",
     "text": [
      "WARNING:root:Images sizes do not match. This will causes images to be display incorrectly in the UI.\n",
      "WARNING:root:Images sizes do not match. This will causes images to be display incorrectly in the UI.\n",
      "WARNING:root:Images sizes do not match. This will causes images to be display incorrectly in the UI.\n",
      "WARNING:root:Images sizes do not match. This will causes images to be display incorrectly in the UI.\n"
     ]
    },
    {
     "name": "stdout",
     "output_type": "stream",
     "text": [
      "Epoch 37, Itrs 6600, Loss=0.0730\n",
      "Epoch 37, Itrs 6620, Loss=0.0672\n",
      "Epoch 37, Itrs 6640, Loss=0.0738\n",
      "Epoch 37, Itrs 6660, Loss=0.0853\n",
      "Epoch 37, Itrs 6680, Loss=0.0806\n",
      "Epoch 37, Itrs 6700, Loss=0.0773\n",
      "Epoch 37, Itrs 6720, Loss=0.0919\n",
      "Epoch 37, Itrs 6740, Loss=0.0741\n",
      "Epoch 37, Itrs 6760, Loss=0.0835\n",
      "Model saved at: ./output/Coding_Task_2/deeplabv3plus_resnet50_run2/checkpoints/latest.pt\n",
      "Validation...\n"
     ]
    },
    {
     "name": "stderr",
     "output_type": "stream",
     "text": [
      "1449it [00:23, 61.79it/s]\n"
     ]
    },
    {
     "name": "stdout",
     "output_type": "stream",
     "text": [
      "\n",
      "Overall Acc: 0.903016\n",
      "Mean Acc: 0.803252\n",
      "FreqW Acc: 0.835928\n",
      "Mean IoU: 0.634763\n",
      "\n"
     ]
    },
    {
     "name": "stderr",
     "output_type": "stream",
     "text": [
      "WARNING:root:Images sizes do not match. This will causes images to be display incorrectly in the UI.\n",
      "WARNING:root:Images sizes do not match. This will causes images to be display incorrectly in the UI.\n",
      "WARNING:root:Images sizes do not match. This will causes images to be display incorrectly in the UI.\n",
      "WARNING:root:Images sizes do not match. This will causes images to be display incorrectly in the UI.\n"
     ]
    },
    {
     "name": "stdout",
     "output_type": "stream",
     "text": [
      "Epoch 38, Itrs 6780, Loss=0.0828\n",
      "Epoch 38, Itrs 6800, Loss=0.0917\n",
      "Epoch 38, Itrs 6820, Loss=0.0790\n",
      "Epoch 38, Itrs 6840, Loss=0.0857\n",
      "Epoch 38, Itrs 6860, Loss=0.0755\n",
      "Epoch 38, Itrs 6880, Loss=0.0719\n",
      "Epoch 38, Itrs 6900, Loss=0.0930\n",
      "Epoch 38, Itrs 6920, Loss=0.0764\n",
      "Epoch 38, Itrs 6940, Loss=0.0743\n",
      "Model saved at: ./output/Coding_Task_2/deeplabv3plus_resnet50_run2/checkpoints/latest.pt\n",
      "Validation...\n"
     ]
    },
    {
     "name": "stderr",
     "output_type": "stream",
     "text": [
      "1449it [00:23, 62.25it/s]\n"
     ]
    },
    {
     "name": "stdout",
     "output_type": "stream",
     "text": [
      "\n",
      "Overall Acc: 0.904757\n",
      "Mean Acc: 0.808536\n",
      "FreqW Acc: 0.838684\n",
      "Mean IoU: 0.643794\n",
      "\n",
      "Model saved at: ./output/Coding_Task_2/deeplabv3plus_resnet50_run2/checkpoints/best.pt\n"
     ]
    },
    {
     "name": "stderr",
     "output_type": "stream",
     "text": [
      "WARNING:root:Images sizes do not match. This will causes images to be display incorrectly in the UI.\n",
      "WARNING:root:Images sizes do not match. This will causes images to be display incorrectly in the UI.\n",
      "WARNING:root:Images sizes do not match. This will causes images to be display incorrectly in the UI.\n",
      "WARNING:root:Images sizes do not match. This will causes images to be display incorrectly in the UI.\n"
     ]
    },
    {
     "name": "stdout",
     "output_type": "stream",
     "text": [
      "Epoch 39, Itrs 6960, Loss=0.0837\n",
      "Epoch 39, Itrs 6980, Loss=0.0827\n",
      "Epoch 39, Itrs 7000, Loss=0.0705\n",
      "Epoch 39, Itrs 7020, Loss=0.0735\n",
      "Epoch 39, Itrs 7040, Loss=0.0880\n",
      "Epoch 39, Itrs 7060, Loss=0.0917\n",
      "Epoch 39, Itrs 7080, Loss=0.0753\n",
      "Epoch 39, Itrs 7100, Loss=0.0803\n",
      "Epoch 39, Itrs 7120, Loss=0.0816\n",
      "Model saved at: ./output/Coding_Task_2/deeplabv3plus_resnet50_run2/checkpoints/latest.pt\n",
      "Validation...\n"
     ]
    },
    {
     "name": "stderr",
     "output_type": "stream",
     "text": [
      "1449it [00:23, 62.43it/s]\n"
     ]
    },
    {
     "name": "stdout",
     "output_type": "stream",
     "text": [
      "\n",
      "Overall Acc: 0.905112\n",
      "Mean Acc: 0.806278\n",
      "FreqW Acc: 0.838936\n",
      "Mean IoU: 0.640799\n",
      "\n"
     ]
    },
    {
     "name": "stderr",
     "output_type": "stream",
     "text": [
      "WARNING:root:Images sizes do not match. This will causes images to be display incorrectly in the UI.\n",
      "WARNING:root:Images sizes do not match. This will causes images to be display incorrectly in the UI.\n",
      "WARNING:root:Images sizes do not match. This will causes images to be display incorrectly in the UI.\n",
      "WARNING:root:Images sizes do not match. This will causes images to be display incorrectly in the UI.\n"
     ]
    },
    {
     "name": "stdout",
     "output_type": "stream",
     "text": [
      "Epoch 40, Itrs 7140, Loss=0.0729\n",
      "Epoch 40, Itrs 7160, Loss=0.0927\n",
      "Epoch 40, Itrs 7180, Loss=0.0613\n",
      "Epoch 40, Itrs 7200, Loss=0.0692\n",
      "Epoch 40, Itrs 7220, Loss=0.0712\n",
      "Epoch 40, Itrs 7240, Loss=0.0723\n",
      "Epoch 40, Itrs 7260, Loss=0.0815\n",
      "Epoch 40, Itrs 7280, Loss=0.0772\n",
      "Epoch 40, Itrs 7300, Loss=0.0752\n",
      "Epoch 40, Itrs 7320, Loss=0.0889\n",
      "Model saved at: ./output/Coding_Task_2/deeplabv3plus_resnet50_run2/checkpoints/epoch_40.pt\n",
      "Model saved at: ./output/Coding_Task_2/deeplabv3plus_resnet50_run2/checkpoints/latest.pt\n",
      "Validation...\n"
     ]
    },
    {
     "name": "stderr",
     "output_type": "stream",
     "text": [
      "1449it [00:23, 61.76it/s]\n"
     ]
    },
    {
     "name": "stdout",
     "output_type": "stream",
     "text": [
      "\n",
      "Overall Acc: 0.904336\n",
      "Mean Acc: 0.806129\n",
      "FreqW Acc: 0.837591\n",
      "Mean IoU: 0.638274\n",
      "\n"
     ]
    },
    {
     "name": "stderr",
     "output_type": "stream",
     "text": [
      "WARNING:root:Images sizes do not match. This will causes images to be display incorrectly in the UI.\n",
      "WARNING:root:Images sizes do not match. This will causes images to be display incorrectly in the UI.\n",
      "WARNING:root:Images sizes do not match. This will causes images to be display incorrectly in the UI.\n",
      "WARNING:root:Images sizes do not match. This will causes images to be display incorrectly in the UI.\n"
     ]
    },
    {
     "name": "stdout",
     "output_type": "stream",
     "text": [
      "Epoch 41, Itrs 7340, Loss=0.0763\n",
      "Epoch 41, Itrs 7360, Loss=0.0819\n",
      "Epoch 41, Itrs 7380, Loss=0.0845\n",
      "Epoch 41, Itrs 7400, Loss=0.0740\n",
      "Epoch 41, Itrs 7420, Loss=0.0763\n",
      "Epoch 41, Itrs 7440, Loss=0.0748\n",
      "Epoch 41, Itrs 7460, Loss=0.0746\n",
      "Epoch 41, Itrs 7480, Loss=0.0697\n",
      "Epoch 41, Itrs 7500, Loss=0.0677\n",
      "Model saved at: ./output/Coding_Task_2/deeplabv3plus_resnet50_run2/checkpoints/latest.pt\n",
      "Validation...\n"
     ]
    },
    {
     "name": "stderr",
     "output_type": "stream",
     "text": [
      "1449it [00:23, 62.23it/s]\n"
     ]
    },
    {
     "name": "stdout",
     "output_type": "stream",
     "text": [
      "\n",
      "Overall Acc: 0.906653\n",
      "Mean Acc: 0.804030\n",
      "FreqW Acc: 0.840735\n",
      "Mean IoU: 0.644146\n",
      "\n",
      "Model saved at: ./output/Coding_Task_2/deeplabv3plus_resnet50_run2/checkpoints/best.pt\n"
     ]
    },
    {
     "name": "stderr",
     "output_type": "stream",
     "text": [
      "WARNING:root:Images sizes do not match. This will causes images to be display incorrectly in the UI.\n",
      "WARNING:root:Images sizes do not match. This will causes images to be display incorrectly in the UI.\n",
      "WARNING:root:Images sizes do not match. This will causes images to be display incorrectly in the UI.\n",
      "WARNING:root:Images sizes do not match. This will causes images to be display incorrectly in the UI.\n"
     ]
    },
    {
     "name": "stdout",
     "output_type": "stream",
     "text": [
      "Epoch 42, Itrs 7520, Loss=0.0827\n",
      "Epoch 42, Itrs 7540, Loss=0.0782\n",
      "Epoch 42, Itrs 7560, Loss=0.0816\n",
      "Epoch 42, Itrs 7580, Loss=0.0886\n",
      "Epoch 42, Itrs 7600, Loss=0.0673\n",
      "Epoch 42, Itrs 7620, Loss=0.0660\n",
      "Epoch 42, Itrs 7640, Loss=0.0711\n",
      "Epoch 42, Itrs 7660, Loss=0.0609\n",
      "Epoch 42, Itrs 7680, Loss=0.0772\n",
      "Model saved at: ./output/Coding_Task_2/deeplabv3plus_resnet50_run2/checkpoints/latest.pt\n",
      "Validation...\n"
     ]
    },
    {
     "name": "stderr",
     "output_type": "stream",
     "text": [
      "1449it [00:23, 61.56it/s]\n"
     ]
    },
    {
     "name": "stdout",
     "output_type": "stream",
     "text": [
      "\n",
      "Overall Acc: 0.908907\n",
      "Mean Acc: 0.800798\n",
      "FreqW Acc: 0.843795\n",
      "Mean IoU: 0.650269\n",
      "\n",
      "Model saved at: ./output/Coding_Task_2/deeplabv3plus_resnet50_run2/checkpoints/best.pt\n"
     ]
    },
    {
     "name": "stderr",
     "output_type": "stream",
     "text": [
      "WARNING:root:Images sizes do not match. This will causes images to be display incorrectly in the UI.\n",
      "WARNING:root:Images sizes do not match. This will causes images to be display incorrectly in the UI.\n",
      "WARNING:root:Images sizes do not match. This will causes images to be display incorrectly in the UI.\n",
      "WARNING:root:Images sizes do not match. This will causes images to be display incorrectly in the UI.\n"
     ]
    },
    {
     "name": "stdout",
     "output_type": "stream",
     "text": [
      "Epoch 43, Itrs 7700, Loss=0.0672\n",
      "Epoch 43, Itrs 7720, Loss=0.0726\n",
      "Epoch 43, Itrs 7740, Loss=0.0730\n",
      "Epoch 43, Itrs 7760, Loss=0.0733\n",
      "Epoch 43, Itrs 7780, Loss=0.0828\n",
      "Epoch 43, Itrs 7800, Loss=0.0822\n",
      "Epoch 43, Itrs 7820, Loss=0.0773\n",
      "Epoch 43, Itrs 7840, Loss=0.1041\n",
      "Epoch 43, Itrs 7860, Loss=0.0773\n",
      "Model saved at: ./output/Coding_Task_2/deeplabv3plus_resnet50_run2/checkpoints/latest.pt\n",
      "Validation...\n"
     ]
    },
    {
     "name": "stderr",
     "output_type": "stream",
     "text": [
      "1449it [00:23, 62.34it/s]\n"
     ]
    },
    {
     "name": "stdout",
     "output_type": "stream",
     "text": [
      "\n",
      "Overall Acc: 0.904805\n",
      "Mean Acc: 0.805583\n",
      "FreqW Acc: 0.838465\n",
      "Mean IoU: 0.640359\n",
      "\n"
     ]
    },
    {
     "name": "stderr",
     "output_type": "stream",
     "text": [
      "WARNING:root:Images sizes do not match. This will causes images to be display incorrectly in the UI.\n",
      "WARNING:root:Images sizes do not match. This will causes images to be display incorrectly in the UI.\n",
      "WARNING:root:Images sizes do not match. This will causes images to be display incorrectly in the UI.\n",
      "WARNING:root:Images sizes do not match. This will causes images to be display incorrectly in the UI.\n"
     ]
    },
    {
     "name": "stdout",
     "output_type": "stream",
     "text": [
      "Epoch 44, Itrs 7880, Loss=0.0723\n",
      "Epoch 44, Itrs 7900, Loss=0.0840\n",
      "Epoch 44, Itrs 7920, Loss=0.0789\n",
      "Epoch 44, Itrs 7940, Loss=0.0718\n",
      "Epoch 44, Itrs 7960, Loss=0.0765\n",
      "Epoch 44, Itrs 7980, Loss=0.0739\n",
      "Epoch 44, Itrs 8000, Loss=0.0728\n",
      "Epoch 44, Itrs 8020, Loss=0.0731\n",
      "Epoch 44, Itrs 8040, Loss=0.0767\n",
      "Model saved at: ./output/Coding_Task_2/deeplabv3plus_resnet50_run2/checkpoints/latest.pt\n",
      "Validation...\n"
     ]
    },
    {
     "name": "stderr",
     "output_type": "stream",
     "text": [
      "1449it [00:22, 63.37it/s]\n"
     ]
    },
    {
     "name": "stdout",
     "output_type": "stream",
     "text": [
      "\n",
      "Overall Acc: 0.907139\n",
      "Mean Acc: 0.798158\n",
      "FreqW Acc: 0.841248\n",
      "Mean IoU: 0.644701\n",
      "\n"
     ]
    },
    {
     "name": "stderr",
     "output_type": "stream",
     "text": [
      "WARNING:root:Images sizes do not match. This will causes images to be display incorrectly in the UI.\n",
      "WARNING:root:Images sizes do not match. This will causes images to be display incorrectly in the UI.\n",
      "WARNING:root:Images sizes do not match. This will causes images to be display incorrectly in the UI.\n",
      "WARNING:root:Images sizes do not match. This will causes images to be display incorrectly in the UI.\n"
     ]
    },
    {
     "name": "stdout",
     "output_type": "stream",
     "text": [
      "Epoch 45, Itrs 8060, Loss=0.0673\n",
      "Epoch 45, Itrs 8080, Loss=0.0778\n",
      "Epoch 45, Itrs 8100, Loss=0.0978\n",
      "Epoch 45, Itrs 8120, Loss=0.0703\n",
      "Epoch 45, Itrs 8140, Loss=0.0774\n",
      "Epoch 45, Itrs 8160, Loss=0.0736\n",
      "Epoch 45, Itrs 8180, Loss=0.0650\n",
      "Epoch 45, Itrs 8200, Loss=0.0666\n",
      "Epoch 45, Itrs 8220, Loss=0.0725\n",
      "Model saved at: ./output/Coding_Task_2/deeplabv3plus_resnet50_run2/checkpoints/epoch_45.pt\n",
      "Model saved at: ./output/Coding_Task_2/deeplabv3plus_resnet50_run2/checkpoints/latest.pt\n",
      "Validation...\n"
     ]
    },
    {
     "name": "stderr",
     "output_type": "stream",
     "text": [
      "1449it [00:22, 63.27it/s]\n"
     ]
    },
    {
     "name": "stdout",
     "output_type": "stream",
     "text": [
      "\n",
      "Overall Acc: 0.907164\n",
      "Mean Acc: 0.798446\n",
      "FreqW Acc: 0.840864\n",
      "Mean IoU: 0.643972\n",
      "\n"
     ]
    },
    {
     "name": "stderr",
     "output_type": "stream",
     "text": [
      "WARNING:root:Images sizes do not match. This will causes images to be display incorrectly in the UI.\n",
      "WARNING:root:Images sizes do not match. This will causes images to be display incorrectly in the UI.\n",
      "WARNING:root:Images sizes do not match. This will causes images to be display incorrectly in the UI.\n",
      "WARNING:root:Images sizes do not match. This will causes images to be display incorrectly in the UI.\n"
     ]
    },
    {
     "name": "stdout",
     "output_type": "stream",
     "text": [
      "Epoch 46, Itrs 8240, Loss=0.0626\n",
      "Epoch 46, Itrs 8260, Loss=0.0670\n",
      "Epoch 46, Itrs 8280, Loss=0.0777\n",
      "Epoch 46, Itrs 8300, Loss=0.0713\n",
      "Epoch 46, Itrs 8320, Loss=0.0771\n",
      "Epoch 46, Itrs 8340, Loss=0.0722\n",
      "Epoch 46, Itrs 8360, Loss=0.0737\n",
      "Epoch 46, Itrs 8380, Loss=0.0686\n",
      "Epoch 46, Itrs 8400, Loss=0.0758\n",
      "Model saved at: ./output/Coding_Task_2/deeplabv3plus_resnet50_run2/checkpoints/latest.pt\n",
      "Validation...\n"
     ]
    },
    {
     "name": "stderr",
     "output_type": "stream",
     "text": [
      "1449it [00:22, 63.52it/s]\n"
     ]
    },
    {
     "name": "stdout",
     "output_type": "stream",
     "text": [
      "\n",
      "Overall Acc: 0.908009\n",
      "Mean Acc: 0.798358\n",
      "FreqW Acc: 0.842063\n",
      "Mean IoU: 0.646552\n",
      "\n"
     ]
    },
    {
     "name": "stderr",
     "output_type": "stream",
     "text": [
      "WARNING:root:Images sizes do not match. This will causes images to be display incorrectly in the UI.\n",
      "WARNING:root:Images sizes do not match. This will causes images to be display incorrectly in the UI.\n",
      "WARNING:root:Images sizes do not match. This will causes images to be display incorrectly in the UI.\n",
      "WARNING:root:Images sizes do not match. This will causes images to be display incorrectly in the UI.\n"
     ]
    },
    {
     "name": "stdout",
     "output_type": "stream",
     "text": [
      "Epoch 47, Itrs 8420, Loss=0.0833\n",
      "Epoch 47, Itrs 8440, Loss=0.0664\n",
      "Epoch 47, Itrs 8460, Loss=0.0708\n",
      "Epoch 47, Itrs 8480, Loss=0.0750\n",
      "Epoch 47, Itrs 8500, Loss=0.0734\n",
      "Epoch 47, Itrs 8520, Loss=0.0723\n",
      "Epoch 47, Itrs 8540, Loss=0.0711\n",
      "Epoch 47, Itrs 8560, Loss=0.0865\n",
      "Epoch 47, Itrs 8580, Loss=0.0657\n",
      "Epoch 47, Itrs 8600, Loss=0.0784\n",
      "Model saved at: ./output/Coding_Task_2/deeplabv3plus_resnet50_run2/checkpoints/latest.pt\n",
      "Validation...\n"
     ]
    },
    {
     "name": "stderr",
     "output_type": "stream",
     "text": [
      "1449it [00:22, 63.62it/s]\n"
     ]
    },
    {
     "name": "stdout",
     "output_type": "stream",
     "text": [
      "\n",
      "Overall Acc: 0.907225\n",
      "Mean Acc: 0.798541\n",
      "FreqW Acc: 0.841115\n",
      "Mean IoU: 0.645588\n",
      "\n"
     ]
    },
    {
     "name": "stderr",
     "output_type": "stream",
     "text": [
      "WARNING:root:Images sizes do not match. This will causes images to be display incorrectly in the UI.\n",
      "WARNING:root:Images sizes do not match. This will causes images to be display incorrectly in the UI.\n",
      "WARNING:root:Images sizes do not match. This will causes images to be display incorrectly in the UI.\n",
      "WARNING:root:Images sizes do not match. This will causes images to be display incorrectly in the UI.\n"
     ]
    },
    {
     "name": "stdout",
     "output_type": "stream",
     "text": [
      "Epoch 48, Itrs 8620, Loss=0.0656\n",
      "Epoch 48, Itrs 8640, Loss=0.0637\n",
      "Epoch 48, Itrs 8660, Loss=0.0833\n",
      "Epoch 48, Itrs 8680, Loss=0.0858\n",
      "Epoch 48, Itrs 8700, Loss=0.0719\n",
      "Epoch 48, Itrs 8720, Loss=0.0655\n",
      "Epoch 48, Itrs 8740, Loss=0.0817\n",
      "Epoch 48, Itrs 8760, Loss=0.0774\n",
      "Epoch 48, Itrs 8780, Loss=0.0700\n",
      "Model saved at: ./output/Coding_Task_2/deeplabv3plus_resnet50_run2/checkpoints/latest.pt\n",
      "Validation...\n"
     ]
    },
    {
     "name": "stderr",
     "output_type": "stream",
     "text": [
      "1449it [00:23, 62.68it/s]\n"
     ]
    },
    {
     "name": "stdout",
     "output_type": "stream",
     "text": [
      "\n",
      "Overall Acc: 0.907404\n",
      "Mean Acc: 0.798603\n",
      "FreqW Acc: 0.841365\n",
      "Mean IoU: 0.646493\n",
      "\n"
     ]
    },
    {
     "name": "stderr",
     "output_type": "stream",
     "text": [
      "WARNING:root:Images sizes do not match. This will causes images to be display incorrectly in the UI.\n",
      "WARNING:root:Images sizes do not match. This will causes images to be display incorrectly in the UI.\n",
      "WARNING:root:Images sizes do not match. This will causes images to be display incorrectly in the UI.\n",
      "WARNING:root:Images sizes do not match. This will causes images to be display incorrectly in the UI.\n"
     ]
    },
    {
     "name": "stdout",
     "output_type": "stream",
     "text": [
      "Epoch 49, Itrs 8800, Loss=0.0815\n",
      "Epoch 49, Itrs 8820, Loss=0.0666\n",
      "Epoch 49, Itrs 8840, Loss=0.0788\n",
      "Epoch 49, Itrs 8860, Loss=0.0698\n",
      "Epoch 49, Itrs 8880, Loss=0.0651\n",
      "Epoch 49, Itrs 8900, Loss=0.0716\n",
      "Epoch 49, Itrs 8920, Loss=0.0842\n",
      "Epoch 49, Itrs 8940, Loss=0.0758\n",
      "Epoch 49, Itrs 8960, Loss=0.0706\n",
      "Model saved at: ./output/Coding_Task_2/deeplabv3plus_resnet50_run2/checkpoints/latest.pt\n",
      "Validation...\n"
     ]
    },
    {
     "name": "stderr",
     "output_type": "stream",
     "text": [
      "1449it [00:22, 63.05it/s]\n"
     ]
    },
    {
     "name": "stdout",
     "output_type": "stream",
     "text": [
      "\n",
      "Overall Acc: 0.906790\n",
      "Mean Acc: 0.801488\n",
      "FreqW Acc: 0.840776\n",
      "Mean IoU: 0.644742\n",
      "\n"
     ]
    },
    {
     "name": "stderr",
     "output_type": "stream",
     "text": [
      "WARNING:root:Images sizes do not match. This will causes images to be display incorrectly in the UI.\n",
      "WARNING:root:Images sizes do not match. This will causes images to be display incorrectly in the UI.\n",
      "WARNING:root:Images sizes do not match. This will causes images to be display incorrectly in the UI.\n",
      "WARNING:root:Images sizes do not match. This will causes images to be display incorrectly in the UI.\n"
     ]
    },
    {
     "name": "stdout",
     "output_type": "stream",
     "text": [
      "Epoch 50, Itrs 8980, Loss=0.0617\n",
      "Epoch 50, Itrs 9000, Loss=0.0682\n",
      "Epoch 50, Itrs 9020, Loss=0.0677\n",
      "Epoch 50, Itrs 9040, Loss=0.0753\n",
      "Epoch 50, Itrs 9060, Loss=0.0969\n",
      "Epoch 50, Itrs 9080, Loss=0.0699\n",
      "Epoch 50, Itrs 9100, Loss=0.0745\n",
      "Epoch 50, Itrs 9120, Loss=0.0666\n",
      "Epoch 50, Itrs 9140, Loss=0.0732\n",
      "Model saved at: ./output/Coding_Task_2/deeplabv3plus_resnet50_run2/checkpoints/epoch_50.pt\n",
      "Model saved at: ./output/Coding_Task_2/deeplabv3plus_resnet50_run2/checkpoints/latest.pt\n",
      "Validation...\n"
     ]
    },
    {
     "name": "stderr",
     "output_type": "stream",
     "text": [
      "1449it [00:22, 63.13it/s]\n"
     ]
    },
    {
     "name": "stdout",
     "output_type": "stream",
     "text": [
      "\n",
      "Overall Acc: 0.907165\n",
      "Mean Acc: 0.800699\n",
      "FreqW Acc: 0.841476\n",
      "Mean IoU: 0.646033\n",
      "\n"
     ]
    },
    {
     "name": "stderr",
     "output_type": "stream",
     "text": [
      "WARNING:root:Images sizes do not match. This will causes images to be display incorrectly in the UI.\n",
      "WARNING:root:Images sizes do not match. This will causes images to be display incorrectly in the UI.\n",
      "WARNING:root:Images sizes do not match. This will causes images to be display incorrectly in the UI.\n",
      "WARNING:root:Images sizes do not match. This will causes images to be display incorrectly in the UI.\n"
     ]
    },
    {
     "name": "stderr",
     "output_type": "stream",
     "text": [
      "wandb: Network error (ConnectionError), entering retry loop.\n",
      "wandb: Network error (ConnectionError), entering retry loop.\n"
     ]
    }
   ],
   "source": [
    "def get_dataset(\n",
    "    dataset_name: str, dataset_root: str, crop_size: int, crop_val: bool\n",
    "):\n",
    "    \"\"\"\n",
    "    Returns Dataset And Augmentation\n",
    "\n",
    "    Args:\n",
    "        dataset_name: name of dataset\n",
    "        dataset_root: path to dataset\n",
    "        crop_size: crop size\n",
    "        crop_val: if True, crop validation set\n",
    "\n",
    "    Returns:\n",
    "        train_dst: train dataset\n",
    "        val_dst: validation dataset\n",
    "    \"\"\"\n",
    "    if dataset_name.lower() == \"vocsegmentation\":\n",
    "        train_transform = et.ExtCompose(\n",
    "            [\n",
    "                # et.ExtResize(size=opts.crop_size),\n",
    "                et.ExtRandomScale((0.5, 2.0)),\n",
    "                et.ExtRandomCrop(\n",
    "                    size=(crop_size, crop_size), pad_if_needed=True\n",
    "                ),\n",
    "                et.ExtRandomHorizontalFlip(),\n",
    "                et.ExtToTensor(),\n",
    "                et.ExtNormalize(\n",
    "                    mean=[0.485, 0.456, 0.406], std=[0.229, 0.224, 0.225]\n",
    "                ),\n",
    "            ]\n",
    "        )\n",
    "        if crop_val:\n",
    "            val_transform = et.ExtCompose(\n",
    "                [\n",
    "                    et.ExtResize(crop_size),\n",
    "                    et.ExtCenterCrop(crop_size),\n",
    "                    et.ExtToTensor(),\n",
    "                    et.ExtNormalize(\n",
    "                        mean=[0.485, 0.456, 0.406], std=[0.229, 0.224, 0.225]\n",
    "                    ),\n",
    "                ]\n",
    "            )\n",
    "        else:\n",
    "            val_transform = et.ExtCompose(\n",
    "                [\n",
    "                    et.ExtToTensor(),\n",
    "                    et.ExtNormalize(\n",
    "                        mean=[0.485, 0.456, 0.406], std=[0.229, 0.224, 0.225]\n",
    "                    ),\n",
    "                ]\n",
    "            )\n",
    "        train_dst = VOCSegmentation(\n",
    "            root=dataset_root,\n",
    "            year=\"2012\",\n",
    "            image_set=\"train\",\n",
    "            download=False,\n",
    "            transform=train_transform,\n",
    "        )\n",
    "        val_dst = VOCSegmentation(\n",
    "            root=dataset_root,\n",
    "            year=\"2012\",\n",
    "            image_set=\"val\",\n",
    "            download=False,\n",
    "            transform=val_transform,\n",
    "        )\n",
    "\n",
    "    elif dataset_name.lower() == \"cityscapes\":\n",
    "        train_transform = et.ExtCompose(\n",
    "            [\n",
    "                # et.ExtResize( 512 ),\n",
    "                et.ExtRandomCrop(size=(crop_size, crop_size)),\n",
    "                et.ExtColorJitter(\n",
    "                    brightness=0.5, contrast=0.5, saturation=0.5\n",
    "                ),\n",
    "                et.ExtRandomHorizontalFlip(),\n",
    "                et.ExtToTensor(),\n",
    "                et.ExtNormalize(\n",
    "                    mean=[0.485, 0.456, 0.406], std=[0.229, 0.224, 0.225]\n",
    "                ),\n",
    "            ]\n",
    "        )\n",
    "\n",
    "        val_transform = et.ExtCompose(\n",
    "            [\n",
    "                # et.ExtResize( 512 ),\n",
    "                et.ExtToTensor(),\n",
    "                et.ExtNormalize(\n",
    "                    mean=[0.485, 0.456, 0.406], std=[0.229, 0.224, 0.225]\n",
    "                ),\n",
    "            ]\n",
    "        )\n",
    "\n",
    "        train_dst = Cityscapes(\n",
    "            root=dataset_root, split=\"train\", transform=train_transform\n",
    "        )\n",
    "        val_dst = Cityscapes(\n",
    "            root=dataset_root, split=\"val\", transform=val_transform\n",
    "        )\n",
    "\n",
    "    else:\n",
    "        raise NotImplementedError\n",
    "\n",
    "    return train_dst, val_dst\n",
    "\n",
    "\n",
    "def validate(\n",
    "    opts: dict,\n",
    "    model: nn.Module,\n",
    "    epoch: int,\n",
    "    loader: data.DataLoader,\n",
    "    device: torch.device,\n",
    "    metrics: StreamSegMetrics,\n",
    "    experiment_path: str,\n",
    "    ret_samples_ids=None,\n",
    "):\n",
    "    \"\"\"\n",
    "    Does validation and return specified samples\n",
    "\n",
    "    Args:\n",
    "        opts: config dict\n",
    "        model: model to validate\n",
    "        epoch: current epoch\n",
    "        loader: data loader\n",
    "        device: device to use\n",
    "        metrics: metrics to use\n",
    "        experiment_path: path to experiment\n",
    "        ret_samples_ids: ids of samples to return\n",
    "\n",
    "    Returns:\n",
    "        score: score of validation\n",
    "        samples_numpy: list of samples to return\n",
    "    \"\"\"\n",
    "    metrics.reset()\n",
    "    samples = []\n",
    "    samples_numpy = []\n",
    "\n",
    "    images_dir = os.path.join(experiment_path, \"results\", f\"epoch_{epoch}\")\n",
    "    os.makedirs(images_dir, exist_ok=True)\n",
    "    denorm = utils.Denormalize(\n",
    "        mean=[0.485, 0.456, 0.406], std=[0.229, 0.224, 0.225]\n",
    "    )\n",
    "\n",
    "    model.eval()\n",
    "    with torch.no_grad():\n",
    "        for i, (images, labels) in tqdm(enumerate(loader)):\n",
    "            images = images.to(device, dtype=torch.float32)\n",
    "            labels = labels.to(device, dtype=torch.long)\n",
    "\n",
    "            outputs = model(images)\n",
    "            preds = outputs.detach().max(dim=1)[1].cpu().numpy()\n",
    "            targets = labels.cpu().numpy()\n",
    "\n",
    "            metrics.update(targets, preds)\n",
    "            if (\n",
    "                ret_samples_ids is not None and i in ret_samples_ids\n",
    "            ):  # get vis samples\n",
    "                samples.append(\n",
    "                    (images[0].detach().cpu().numpy(), targets[0], preds[0])\n",
    "                )\n",
    "\n",
    "        score = metrics.get_results()\n",
    "\n",
    "    if opts[\"save_val_results\"]:\n",
    "        for idx in range(len(samples)):\n",
    "            image = samples[idx][0]\n",
    "            target = samples[idx][1]\n",
    "            pred = samples[idx][2]\n",
    "\n",
    "            image = (denorm(image) * 255).transpose(1, 2, 0).astype(np.uint8)\n",
    "            target = loader.dataset.decode_target(target).astype(np.uint8)\n",
    "            pred = loader.dataset.decode_target(pred).astype(np.uint8)\n",
    "\n",
    "            Image.fromarray(image).save(f\"{images_dir}/{idx}_image.png\")\n",
    "            Image.fromarray(target).save(f\"{images_dir}/{idx}_target.png\")\n",
    "            Image.fromarray(pred).save(f\"{images_dir}/{idx}_pred.png\")\n",
    "\n",
    "            fig = plt.figure()\n",
    "            plt.imshow(image)\n",
    "            plt.axis(\"off\")\n",
    "            plt.imshow(pred, alpha=0.7)\n",
    "            ax = plt.gca()\n",
    "            ax.xaxis.set_major_locator(matplotlib.ticker.NullLocator())\n",
    "            ax.yaxis.set_major_locator(matplotlib.ticker.NullLocator())\n",
    "            plt.savefig(\n",
    "                f\"{images_dir}/{idx}_overlay.png\",\n",
    "                bbox_inches=\"tight\",\n",
    "                pad_inches=0,\n",
    "            )\n",
    "            buf = io.BytesIO()\n",
    "            plt.savefig(buf, format=\"png\", bbox_inches=\"tight\", pad_inches=0)\n",
    "            buf.seek(0)\n",
    "            img_arr = np.frombuffer(buf.getvalue(), dtype=np.uint8)\n",
    "            buf.close()\n",
    "            image_overlay = cv2.imdecode(img_arr, cv2.IMREAD_COLOR)\n",
    "            plt.close()\n",
    "\n",
    "            samples_numpy.append((image, target, pred, image_overlay))\n",
    "\n",
    "    return score, samples_numpy\n",
    "\n",
    "\n",
    "def init_wandb(\n",
    "    project: str, experiment_name: str, experiment_path: str, config: dict\n",
    ") -> wandb.run:\n",
    "    \"\"\"\n",
    "    Initialize wandb\n",
    "\n",
    "    Args:\n",
    "        project: project name\n",
    "        experiment_name: experiment name\n",
    "        experiment_path: path to experiment\n",
    "        config: config dict\n",
    "\n",
    "    Returns:\n",
    "        run: wandb run\n",
    "    \"\"\"\n",
    "    return wandb.init(\n",
    "        project=project,\n",
    "        name=experiment_name,\n",
    "        config=config,\n",
    "        dir=experiment_path,\n",
    "    )\n",
    "\n",
    "\n",
    "def send_images_wandb(images_list: list, step: int):\n",
    "    \"\"\"\n",
    "    Send images to wandb\n",
    "\n",
    "    Args:\n",
    "        images_list: list of images to send, each image is a tuple of (image, target, pred, image_overlay)\n",
    "        step: current step/epoch\n",
    "    \"\"\"\n",
    "    images_input = []\n",
    "    images_over = []\n",
    "    images_target = []\n",
    "    images_pred = []\n",
    "\n",
    "    for image, target, pred, image_overlay in images_list:\n",
    "        images_input.append(wandb.Image(image, caption=\"input_image\"))\n",
    "        images_over.append(wandb.Image(image_overlay, caption=\"overlay_image\"))\n",
    "        images_target.append(wandb.Image(target, caption=\"target_image\"))\n",
    "        images_pred.append(wandb.Image(pred, caption=\"pred_image\"))\n",
    "\n",
    "    wandb.log({\n",
    "        \"input_images\": images_input,\n",
    "        \"overlay_images\": images_over,\n",
    "        \"target_images\": images_target,\n",
    "        \"pred_images\": images_pred\n",
    "    }, step=step)\n",
    "\n",
    "\n",
    "\n",
    "def setup_project(\n",
    "    output_path: str,\n",
    "    project_name: str,\n",
    "    experiment_name: str,\n",
    "    project_exist_ok: bool,\n",
    "):\n",
    "    \"\"\"\n",
    "    Setup project and experiment\n",
    "\n",
    "    Args:\n",
    "        output_path: output path\n",
    "        project_name: project name\n",
    "        experiment_name: experiment name\n",
    "        project_exist_ok: if True, allow to overwrite existing project\n",
    "\n",
    "    Returns:\n",
    "        experiment_path: path to experiment\n",
    "    \"\"\"\n",
    "    if not os.path.exists(output_path):\n",
    "        os.mkdir(output_path)\n",
    "    project_path = os.path.join(output_path, project_name)\n",
    "    if not os.path.exists(project_path):\n",
    "        os.mkdir(project_path)\n",
    "\n",
    "    experiment_path = os.path.join(project_path, experiment_name)\n",
    "    if not os.path.exists(experiment_path):\n",
    "        os.makedirs(experiment_path, exist_ok=True)\n",
    "    else:\n",
    "        if not project_exist_ok:\n",
    "            raise Exception(\"Project and experiment already exists\")\n",
    "\n",
    "    ckpt_path = os.path.join(experiment_path, \"checkpoints\")\n",
    "    os.makedirs(ckpt_path, exist_ok=True)\n",
    "    results_path = os.path.join(experiment_path, \"results\")\n",
    "    os.makedirs(results_path, exist_ok=True)\n",
    "    wandb_path = os.path.join(experiment_path, \"wandb\")\n",
    "    os.makedirs(wandb_path, exist_ok=True)\n",
    "\n",
    "    return experiment_path\n",
    "\n",
    "\n",
    "def save_ckpt(\n",
    "    path: str,\n",
    "    cur_itrs: int,\n",
    "    model: nn.Module,\n",
    "    optimizer: torch.optim.Optimizer,\n",
    "    scheduler,\n",
    "    best_score: float,\n",
    "):\n",
    "    \"\"\"\n",
    "    Save checkpoint to path\n",
    "\n",
    "    Args:\n",
    "        path: path to save checkpoint\n",
    "        cur_itrs: current iteration\n",
    "        model: model to save\n",
    "        optimizer: optimizer to save\n",
    "        scheduler: scheduler to save\n",
    "        best_score: best score to save\n",
    "    \"\"\"\n",
    "    # check if model in nn.DataParallel\n",
    "    if isinstance(model, nn.DataParallel):\n",
    "        model = model.module\n",
    "    torch.save(\n",
    "        {\n",
    "            \"cur_itrs\": cur_itrs,\n",
    "            \"model_state\": model.state_dict(),\n",
    "            \"optimizer_state\": optimizer.state_dict(),\n",
    "            \"scheduler_state\": scheduler.state_dict(),\n",
    "            \"best_score\": best_score,\n",
    "        },\n",
    "        path,\n",
    "    )\n",
    "    print(f\"Model saved at: {path}\")\n",
    "\n",
    "\n",
    "pprint(\"Configs: \")\n",
    "pprint(opts)\n",
    "\n",
    "experiment_path = setup_project(\n",
    "    opts[\"output_path\"],\n",
    "    opts[\"project_name\"],\n",
    "    opts[\"experiment_name\"],\n",
    "    opts[\"project_exist_ok\"],\n",
    ")\n",
    "run = init_wandb(\n",
    "    opts[\"project_name\"], opts[\"experiment_name\"], experiment_path, opts\n",
    ")\n",
    "\n",
    "if opts[\"dataset_name\"].lower() == \"vocsegmentation\":\n",
    "    opts[\"num_classes\"] = 21\n",
    "elif opts[\"dataset_name\"].lower() == \"cityscapes\":\n",
    "    opts[\"num_classes\"] = 19\n",
    "\n",
    "os.environ[\"CUDA_VISIBLE_DEVICES\"] = str(opts[\"gpu_id\"])\n",
    "device = torch.device(\"cuda\" if torch.cuda.is_available() else \"cpu\")\n",
    "print(\"Device: %s\" % device)\n",
    "\n",
    "# Setup random seed\n",
    "torch.manual_seed(opts[\"random_seed\"])\n",
    "np.random.seed(opts[\"random_seed\"])\n",
    "random.seed(opts[\"random_seed\"])\n",
    "\n",
    "if opts[\"enable_vis\"]:\n",
    "    opts[\"val_batch_size\"] = 1  # vis only supports batch_size=1\n",
    "\n",
    "train_dst, val_dst = get_dataset(\n",
    "    dataset_name=opts[\"dataset_name\"],\n",
    "    dataset_root=opts[\"dataset_path\"],\n",
    "    crop_size=opts[\"crop_size\"],\n",
    "    crop_val=opts[\"crop_val\"],\n",
    ")\n",
    "train_loader = data.DataLoader(\n",
    "    train_dst,\n",
    "    batch_size=opts[\"batch_size\"],\n",
    "    shuffle=True,\n",
    "    num_workers=opts[\"num_workers\"],\n",
    "    drop_last=True,\n",
    ")\n",
    "val_loader = data.DataLoader(\n",
    "    val_dst, batch_size=opts[\"val_batch_size\"], shuffle=True, num_workers=1\n",
    ")\n",
    "print(\n",
    "    f\"Dataset: {opts['dataset_name']}, Train set: {len(train_dst)}, Val set: {len(val_dst)}\"\n",
    ")\n",
    "\n",
    "# Set up model\n",
    "if opts[\"model_name\"] == \"deeplabv3plus_resnet32\":\n",
    "    model = deeplabv3plus_resnet32(num_classes=opts[\"num_classes\"])\n",
    "elif opts[\"model_name\"] == \"deeplabv3plus_resnet50\":\n",
    "    model = deeplabv3plus_resnet50(num_classes=opts[\"num_classes\"])\n",
    "else:\n",
    "    raise NotImplementedError(f\"Unknown model name: {opts['model_name']}\")\n",
    "if opts[\"separable_conv\"]:\n",
    "    convert_to_separable_conv(model.classifier)\n",
    "utils.set_bn_momentum(model.backbone, momentum=0.01)\n",
    "model = model.to(device)\n",
    "\n",
    "# Set up metrics\n",
    "metrics = StreamSegMetrics(opts[\"num_classes\"])\n",
    "\n",
    "# Set up optimizer\n",
    "optimizer = torch.optim.SGD(\n",
    "    params=[\n",
    "        {\"params\": model.backbone.parameters(), \"lr\": 0.1 * opts[\"lr\"]},\n",
    "        {\"params\": model.classifier.parameters(), \"lr\": opts[\"lr\"]},\n",
    "    ],\n",
    "    lr=opts[\"lr\"],\n",
    "    momentum=0.9,\n",
    "    weight_decay=opts[\"weight_decay\"],\n",
    ")\n",
    "\n",
    "# set up learning rate scheduler\n",
    "total_batches = len(train_loader)\n",
    "if opts[\"lr_policy\"] == \"poly\":\n",
    "    scheduler = utils.PolyLR(\n",
    "        optimizer, opts[\"epochs\"] * total_batches, power=0.9\n",
    "    )\n",
    "elif opts[\"lr_policy\"] == \"step\":\n",
    "    scheduler = torch.optim.lr_scheduler.StepLR(\n",
    "        optimizer, step_size=opts[\"step_size\"], gamma=0.1\n",
    "    )\n",
    "else:\n",
    "    raise NotImplementedError(f\"Unknown lr policy: {opts['lr_policy']}\")\n",
    "\n",
    "# Set up criterion\n",
    "if opts[\"loss_type\"] == \"focal_loss\":\n",
    "    criterion = utils.FocalLoss(ignore_index=255, size_average=True)\n",
    "elif opts[\"loss_type\"] == \"cross_entropy\":\n",
    "    criterion = nn.CrossEntropyLoss(ignore_index=255, reduction=\"mean\")\n",
    "else:\n",
    "    raise NotImplementedError(f\"Unknown loss type: {opts['loss_type']}\")\n",
    "\n",
    "# sample idxs for visualization\n",
    "vis_sample_id = (\n",
    "    np.random.randint(\n",
    "        0, len(val_loader), opts[\"vis_num_samples\"], np.int32\n",
    "    )\n",
    "    if opts[\"vis_num_samples\"] > 0\n",
    "    else None\n",
    ")\n",
    "\n",
    "best_score = 0.0\n",
    "cur_itrs = 0\n",
    "interval_loss = 0\n",
    "\n",
    "# ==========   Train Loop   ==========#\n",
    "for cur_epoch in range(1, opts[\"epochs\"] + 1):\n",
    "    epoch_loss = 0.0  # Reset epoch loss\n",
    "    num_iters = 0  \n",
    "\n",
    "    # =====  Train  =====\n",
    "    model.train()\n",
    "    for images, labels in train_loader:\n",
    "        cur_itrs += 1\n",
    "        num_iters += 1\n",
    "\n",
    "        images = images.to(device, dtype=torch.float32)\n",
    "        labels = labels.to(device, dtype=torch.long)\n",
    "\n",
    "        optimizer.zero_grad()\n",
    "        outputs = model(images)\n",
    "        loss = criterion(outputs, labels)\n",
    "        loss.backward()\n",
    "        optimizer.step()\n",
    "        scheduler.step()\n",
    "\n",
    "        np_loss = loss.detach().cpu().numpy()\n",
    "        interval_loss += np_loss\n",
    "        epoch_loss += np_loss\n",
    "\n",
    "        if cur_itrs % 20 == 0:\n",
    "            interval_loss = interval_loss / 20\n",
    "            print(\n",
    "                f\"Epoch {cur_epoch}, Itrs {cur_itrs}, Loss={interval_loss:.4f}\"\n",
    "            )\n",
    "            interval_loss = 0.0\n",
    "    \n",
    "    epoch_loss /= num_iters\n",
    "    wandb.log(\n",
    "        data={\"train\": {\"loss\": epoch_loss}}, step=cur_epoch\n",
    "    )\n",
    "    if cur_epoch % opts[\"model_save_interval\"] == 0:\n",
    "        save_ckpt(\n",
    "            os.path.join(\n",
    "                experiment_path,\n",
    "                f\"checkpoints/epoch_{cur_epoch}.pt\",\n",
    "            ),\n",
    "            cur_itrs,\n",
    "            model,\n",
    "            optimizer,\n",
    "            scheduler,\n",
    "            best_score,\n",
    "        )\n",
    "    \n",
    "    # =====  Validation  =====\n",
    "    if cur_epoch % opts[\"val_interval\"] == 0:\n",
    "        save_ckpt(\n",
    "            os.path.join(experiment_path, f\"checkpoints/latest.pt\"),\n",
    "            cur_itrs,\n",
    "            model,\n",
    "            optimizer,\n",
    "            scheduler,\n",
    "            best_score,\n",
    "        )\n",
    "        \n",
    "        print(\"Validation...\")\n",
    "        val_score, ret_samples = validate(\n",
    "            opts=opts,\n",
    "            model=model,\n",
    "            epoch=cur_epoch,\n",
    "            loader=val_loader,\n",
    "            device=device,\n",
    "            metrics=metrics,\n",
    "            ret_samples_ids=vis_sample_id,\n",
    "            experiment_path=experiment_path,\n",
    "        )\n",
    "        print(metrics.to_str(val_score))\n",
    "        if val_score[\"Mean IoU\"] > best_score:  # save best model\n",
    "            best_score = val_score[\"Mean IoU\"]\n",
    "            save_ckpt(\n",
    "                os.path.join(experiment_path, \"checkpoints/best.pt\"),\n",
    "                cur_itrs,\n",
    "                model,\n",
    "                optimizer,\n",
    "                scheduler,\n",
    "                best_score,\n",
    "            )\n",
    "\n",
    "        wandb.log(data={\"val\": metrics.to_dict(val_score)}, step=cur_epoch)\n",
    "        send_images_wandb(images_list=ret_samples, step=cur_epoch)\n"
   ]
  },
  {
   "cell_type": "code",
   "execution_count": null,
   "metadata": {},
   "outputs": [],
   "source": []
  }
 ],
 "metadata": {
  "kernelspec": {
   "display_name": "yolov8",
   "language": "python",
   "name": "python3"
  },
  "language_info": {
   "codemirror_mode": {
    "name": "ipython",
    "version": 3
   },
   "file_extension": ".py",
   "mimetype": "text/x-python",
   "name": "python",
   "nbconvert_exporter": "python",
   "pygments_lexer": "ipython3",
   "version": "3.8.16"
  }
 },
 "nbformat": 4,
 "nbformat_minor": 2
}
